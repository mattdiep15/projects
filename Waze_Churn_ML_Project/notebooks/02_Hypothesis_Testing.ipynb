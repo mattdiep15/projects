{
 "cells": [
  {
   "cell_type": "markdown",
   "id": "8ef468da",
   "metadata": {},
   "source": [
    "# Hypothesis Testing\n",
    "\n",
    "Conduct a two-sample t-test to determine whether there is a statistically significant difference in the mean number of rides between iPhone and Android users. \n",
    "\n",
    "## Python Libraries\n",
    "\n",
    "**pandas** – For data loading, cleaning, and transformation \\\n",
    "**scipy** - For statistical analysis"
   ]
  },
  {
   "cell_type": "code",
   "execution_count": 1,
   "id": "ea77fe53",
   "metadata": {},
   "outputs": [],
   "source": [
    "import pandas as pd\n",
    "from scipy import stats"
   ]
  },
  {
   "cell_type": "code",
   "execution_count": 2,
   "id": "0cbb4b5f",
   "metadata": {},
   "outputs": [],
   "source": [
    "df = pd.read_csv(r'C:\\Users\\mqtth\\Desktop\\Projects\\Waze_Churn_ML_Project\\data\\waze_dataset.csv')"
   ]
  },
  {
   "cell_type": "markdown",
   "id": "cd05a6e2",
   "metadata": {},
   "source": [
    "**Binary Label Encoding**"
   ]
  },
  {
   "cell_type": "code",
   "execution_count": 3,
   "id": "ac1d247e",
   "metadata": {},
   "outputs": [
    {
     "data": {
      "text/plain": [
       "0    2\n",
       "1    1\n",
       "2    2\n",
       "3    1\n",
       "4    2\n",
       "Name: device_type, dtype: int64"
      ]
     },
     "execution_count": 3,
     "metadata": {},
     "output_type": "execute_result"
    }
   ],
   "source": [
    "# new dictionary to map phone types\n",
    "map_dict = {'Android': 2, 'iPhone': 1}\n",
    "\n",
    "df['device_type'] = df['device']\n",
    "\n",
    "df['device_type'] = df['device_type'].map(map_dict)\n",
    "\n",
    "df['device_type'].head()"
   ]
  },
  {
   "cell_type": "code",
   "execution_count": 4,
   "id": "4538a3e3",
   "metadata": {},
   "outputs": [
    {
     "data": {
      "text/plain": [
       "device_type\n",
       "1    67.859078\n",
       "2    66.231838\n",
       "Name: drives, dtype: float64"
      ]
     },
     "execution_count": 4,
     "metadata": {},
     "output_type": "execute_result"
    }
   ],
   "source": [
    "df.groupby('device_type')['drives'].mean()"
   ]
  },
  {
   "cell_type": "markdown",
   "id": "c7c1d141",
   "metadata": {},
   "source": [
    "Based on these values, drivers who use iPhones with Waze have a higher number of drives on average. This difference may be attributed to random sampling rather than being a true difference in the number of drives. We will have to conduct a hypothesis test to assess whether the difference is statistically significant. "
   ]
  },
  {
   "cell_type": "markdown",
   "id": "6b4d9ddd",
   "metadata": {},
   "source": [
    "**Hypotheses:**\n",
    "\n",
    "\\begin{align*}\n",
    "H_0 &: \\text{There is no difference in average number of drives between drivers who use iPhone devices and drivers who use Androids.} \\\\\n",
    "H_1 &: \\text{There is a difference in average number of drives between drivers who use iPhone devices and drivers who use Androids.}\n",
    "\\end{align*}"
   ]
  },
  {
   "cell_type": "code",
   "execution_count": 5,
   "id": "409759fe",
   "metadata": {},
   "outputs": [
    {
     "data": {
      "text/plain": [
       "TtestResult(statistic=np.float64(1.463523206885235), pvalue=np.float64(0.14335197268020597), df=np.float64(11345.066049381952))"
      ]
     },
     "execution_count": 5,
     "metadata": {},
     "output_type": "execute_result"
    }
   ],
   "source": [
    "# isolate drives column for iPhone users\n",
    "iPhone = df[df['device_type'] == 1]['drives']\n",
    "\n",
    "# isolate drives column for Android users\n",
    "Android = df[df['device_type'] == 2]['drives']\n",
    "\n",
    "# perform t-test\n",
    "stats.ttest_ind(a=iPhone, b=Android, equal_var=False)"
   ]
  },
  {
   "cell_type": "markdown",
   "id": "9d9d96e1",
   "metadata": {},
   "source": [
    "The p-value obtained from the t-test is 0.14, which is greater than the chosen significance level of 5%. We fail to reject the null hypothesis. There is not a statistically significant difference in the average number of drives between drivers who use iPhones compared tho those who use Android. "
   ]
  },
  {
   "cell_type": "markdown",
   "id": "fb33f823",
   "metadata": {},
   "source": []
  }
 ],
 "metadata": {
  "kernelspec": {
   "display_name": "Python 3",
   "language": "python",
   "name": "python3"
  },
  "language_info": {
   "codemirror_mode": {
    "name": "ipython",
    "version": 3
   },
   "file_extension": ".py",
   "mimetype": "text/x-python",
   "name": "python",
   "nbconvert_exporter": "python",
   "pygments_lexer": "ipython3",
   "version": "3.9.13"
  }
 },
 "nbformat": 4,
 "nbformat_minor": 5
}
