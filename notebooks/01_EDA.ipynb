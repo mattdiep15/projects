{
 "cells": [
  {
   "cell_type": "markdown",
   "id": "df59a9cb",
   "metadata": {},
   "source": [
    "## Exploratory Data Analysis (EDA)\n",
    "\n",
    "This exploratory data analysis investigates user behavior in the Waze app with the goal of identifying factors that contribute to user churn. "
   ]
  },
  {
   "cell_type": "code",
   "execution_count": 1,
   "id": "b9307440",
   "metadata": {},
   "outputs": [],
   "source": [
    "import pandas as pd\n",
    "import matplotlib.pyplot as plt\n",
    "import numpy as np\n",
    "import seaborn as sns"
   ]
  },
  {
   "cell_type": "code",
   "execution_count": 2,
   "id": "56b5b018",
   "metadata": {},
   "outputs": [],
   "source": [
    "# load dataset\n",
    "df = pd.read_csv(r'C:\\Users\\mqtth\\Desktop\\Projects\\waze-analytics-project\\data\\waze_dataset.csv')"
   ]
  },
  {
   "cell_type": "code",
   "execution_count": 3,
   "id": "3a97986b",
   "metadata": {},
   "outputs": [
    {
     "data": {
      "text/html": [
       "<div>\n",
       "<style scoped>\n",
       "    .dataframe tbody tr th:only-of-type {\n",
       "        vertical-align: middle;\n",
       "    }\n",
       "\n",
       "    .dataframe tbody tr th {\n",
       "        vertical-align: top;\n",
       "    }\n",
       "\n",
       "    .dataframe thead th {\n",
       "        text-align: right;\n",
       "    }\n",
       "</style>\n",
       "<table border=\"1\" class=\"dataframe\">\n",
       "  <thead>\n",
       "    <tr style=\"text-align: right;\">\n",
       "      <th></th>\n",
       "      <th>ID</th>\n",
       "      <th>label</th>\n",
       "      <th>sessions</th>\n",
       "      <th>drives</th>\n",
       "      <th>total_sessions</th>\n",
       "      <th>n_days_after_onboarding</th>\n",
       "      <th>total_navigations_fav1</th>\n",
       "      <th>total_navigations_fav2</th>\n",
       "      <th>driven_km_drives</th>\n",
       "      <th>duration_minutes_drives</th>\n",
       "      <th>activity_days</th>\n",
       "      <th>driving_days</th>\n",
       "      <th>device</th>\n",
       "    </tr>\n",
       "  </thead>\n",
       "  <tbody>\n",
       "    <tr>\n",
       "      <th>0</th>\n",
       "      <td>0</td>\n",
       "      <td>retained</td>\n",
       "      <td>283</td>\n",
       "      <td>226</td>\n",
       "      <td>296.748273</td>\n",
       "      <td>2276</td>\n",
       "      <td>208</td>\n",
       "      <td>0</td>\n",
       "      <td>2628.845068</td>\n",
       "      <td>1985.775061</td>\n",
       "      <td>28</td>\n",
       "      <td>19</td>\n",
       "      <td>Android</td>\n",
       "    </tr>\n",
       "    <tr>\n",
       "      <th>1</th>\n",
       "      <td>1</td>\n",
       "      <td>retained</td>\n",
       "      <td>133</td>\n",
       "      <td>107</td>\n",
       "      <td>326.896596</td>\n",
       "      <td>1225</td>\n",
       "      <td>19</td>\n",
       "      <td>64</td>\n",
       "      <td>13715.920550</td>\n",
       "      <td>3160.472914</td>\n",
       "      <td>13</td>\n",
       "      <td>11</td>\n",
       "      <td>iPhone</td>\n",
       "    </tr>\n",
       "    <tr>\n",
       "      <th>2</th>\n",
       "      <td>2</td>\n",
       "      <td>retained</td>\n",
       "      <td>114</td>\n",
       "      <td>95</td>\n",
       "      <td>135.522926</td>\n",
       "      <td>2651</td>\n",
       "      <td>0</td>\n",
       "      <td>0</td>\n",
       "      <td>3059.148818</td>\n",
       "      <td>1610.735904</td>\n",
       "      <td>14</td>\n",
       "      <td>8</td>\n",
       "      <td>Android</td>\n",
       "    </tr>\n",
       "    <tr>\n",
       "      <th>3</th>\n",
       "      <td>3</td>\n",
       "      <td>retained</td>\n",
       "      <td>49</td>\n",
       "      <td>40</td>\n",
       "      <td>67.589221</td>\n",
       "      <td>15</td>\n",
       "      <td>322</td>\n",
       "      <td>7</td>\n",
       "      <td>913.591123</td>\n",
       "      <td>587.196542</td>\n",
       "      <td>7</td>\n",
       "      <td>3</td>\n",
       "      <td>iPhone</td>\n",
       "    </tr>\n",
       "    <tr>\n",
       "      <th>4</th>\n",
       "      <td>4</td>\n",
       "      <td>retained</td>\n",
       "      <td>84</td>\n",
       "      <td>68</td>\n",
       "      <td>168.247020</td>\n",
       "      <td>1562</td>\n",
       "      <td>166</td>\n",
       "      <td>5</td>\n",
       "      <td>3950.202008</td>\n",
       "      <td>1219.555924</td>\n",
       "      <td>27</td>\n",
       "      <td>18</td>\n",
       "      <td>Android</td>\n",
       "    </tr>\n",
       "  </tbody>\n",
       "</table>\n",
       "</div>"
      ],
      "text/plain": [
       "   ID     label  sessions  drives  total_sessions  n_days_after_onboarding  \\\n",
       "0   0  retained       283     226      296.748273                     2276   \n",
       "1   1  retained       133     107      326.896596                     1225   \n",
       "2   2  retained       114      95      135.522926                     2651   \n",
       "3   3  retained        49      40       67.589221                       15   \n",
       "4   4  retained        84      68      168.247020                     1562   \n",
       "\n",
       "   total_navigations_fav1  total_navigations_fav2  driven_km_drives  \\\n",
       "0                     208                       0       2628.845068   \n",
       "1                      19                      64      13715.920550   \n",
       "2                       0                       0       3059.148818   \n",
       "3                     322                       7        913.591123   \n",
       "4                     166                       5       3950.202008   \n",
       "\n",
       "   duration_minutes_drives  activity_days  driving_days   device  \n",
       "0              1985.775061             28            19  Android  \n",
       "1              3160.472914             13            11   iPhone  \n",
       "2              1610.735904             14             8  Android  \n",
       "3               587.196542              7             3   iPhone  \n",
       "4              1219.555924             27            18  Android  "
      ]
     },
     "execution_count": 3,
     "metadata": {},
     "output_type": "execute_result"
    }
   ],
   "source": [
    "df.head()"
   ]
  },
  {
   "cell_type": "code",
   "execution_count": 14,
   "id": "8fd763c2",
   "metadata": {},
   "outputs": [
    {
     "data": {
      "text/plain": [
       "<bound method DataFrame.info of           ID     label  sessions  drives  total_sessions  \\\n",
       "0          0  retained       283     226      296.748273   \n",
       "1          1  retained       133     107      326.896596   \n",
       "2          2  retained       114      95      135.522926   \n",
       "3          3  retained        49      40       67.589221   \n",
       "4          4  retained        84      68      168.247020   \n",
       "...      ...       ...       ...     ...             ...   \n",
       "14994  14994  retained        60      55      207.875622   \n",
       "14995  14995  retained        42      35      187.670313   \n",
       "14996  14996  retained       273     219      422.017241   \n",
       "14997  14997   churned       149     120      180.524184   \n",
       "14998  14998  retained        73      58      353.419797   \n",
       "\n",
       "       n_days_after_onboarding  total_navigations_fav1  \\\n",
       "0                         2276                     208   \n",
       "1                         1225                      19   \n",
       "2                         2651                       0   \n",
       "3                           15                     322   \n",
       "4                         1562                     166   \n",
       "...                        ...                     ...   \n",
       "14994                      140                     317   \n",
       "14995                     2505                      15   \n",
       "14996                     1873                      17   \n",
       "14997                     3150                      45   \n",
       "14998                     3383                      13   \n",
       "\n",
       "       total_navigations_fav2  driven_km_drives  duration_minutes_drives  \\\n",
       "0                           0       2628.845068              1985.775061   \n",
       "1                          64      13715.920550              3160.472914   \n",
       "2                           0       3059.148818              1610.735904   \n",
       "3                           7        913.591123               587.196542   \n",
       "4                           5       3950.202008              1219.555924   \n",
       "...                       ...               ...                      ...   \n",
       "14994                       0       2890.496901              2186.155708   \n",
       "14995                      10       4062.575194              1208.583193   \n",
       "14996                       0       3097.825028              1031.278706   \n",
       "14997                       0       4051.758549               254.187763   \n",
       "14998                      51       6030.498773              3042.436423   \n",
       "\n",
       "       activity_days  driving_days   device  \n",
       "0                 28            19  Android  \n",
       "1                 13            11   iPhone  \n",
       "2                 14             8  Android  \n",
       "3                  7             3   iPhone  \n",
       "4                 27            18  Android  \n",
       "...              ...           ...      ...  \n",
       "14994             25            17   iPhone  \n",
       "14995             25            20  Android  \n",
       "14996             18            17   iPhone  \n",
       "14997              6             6   iPhone  \n",
       "14998             14            13   iPhone  \n",
       "\n",
       "[14999 rows x 13 columns]>"
      ]
     },
     "execution_count": 14,
     "metadata": {},
     "output_type": "execute_result"
    }
   ],
   "source": [
    "df.info"
   ]
  },
  {
   "cell_type": "markdown",
   "id": "a7de40ac",
   "metadata": {},
   "source": [
    "## Examining Spread and Distribution of values"
   ]
  },
  {
   "cell_type": "markdown",
   "id": "e288390d",
   "metadata": {},
   "source": [
    "**`sessions`**: The number of occurrence of a user opening the app during the month"
   ]
  },
  {
   "cell_type": "code",
   "execution_count": null,
   "id": "0b51c911",
   "metadata": {},
   "outputs": [
    {
     "data": {
      "text/plain": [
       "Text(0.5, 0, 'Number of Sessions')"
      ]
     },
     "execution_count": 25,
     "metadata": {},
     "output_type": "execute_result"
    },
    {
     "data": {
      "image/png": "[encoded data removed]",
      "text/plain": [
       "<Figure size 1000x200 with 1 Axes>"
      ]
     },
     "metadata": {},
     "output_type": "display_data"
    }
   ],
   "source": [
    "plt.figure(figsize=(10, 2))\n",
    "sns.boxplot(\n",
    "    data= df,\n",
    "    x= 'sessions',\n",
    "    color='#33CCFF',\n",
    ")\n",
    "\n",
    "plt.title('Sessions Box Plot')\n",
    "plt.xlabel('Number of Sessions')"
   ]
  },
  {
   "cell_type": "code",
   "execution_count": null,
   "id": "3164efc6",
   "metadata": {},
   "outputs": [
    {
     "data": {
      "text/plain": [
       "Text(75, 1200, 'median = 56.0')"
      ]
     },
     "execution_count": 27,
     "metadata": {},
     "output_type": "execute_result"
    },
    {
     "data": {
      "image/png": "[encoded data removed]",
      "text/plain": [
       "<Figure size 1000x600 with 1 Axes>"
      ]
     },
     "metadata": {},
     "output_type": "display_data"
    }
   ],
   "source": [
    "median_session = df['sessions'].median()\n",
    "\n",
    "plt.figure(figsize=(10, 6))\n",
    "sns.histplot(\n",
    "    data= df,\n",
    "    x= 'sessions',\n",
    "    color='#33CCFF',\n",
    ")\n",
    "\n",
    "plt.title('Sessions Histogram')\n",
    "plt.xlabel('Number of Sessions')\n",
    "plt.axvline(median_session, color='red', linestyle='--')\n",
    "plt.text(75,1200, 'median = 56.0', color='red')"
   ]
  },
  {
   "cell_type": "markdown",
   "id": "d5fa205c",
   "metadata": {},
   "source": [
    "The `sessions` variable follows a right-skewed distribution with half of the observations having 56 or fewer sessions. Some users have upwards of 500 sessions recorded. "
   ]
  },
  {
   "cell_type": "code",
   "execution_count": null,
   "id": "f8532685",
   "metadata": {},
   "outputs": [],
   "source": []
  }
 ],
 "metadata": {
  "kernelspec": {
   "display_name": "Python 3",
   "language": "python",
   "name": "python3"
  },
  "language_info": {
   "codemirror_mode": {
    "name": "ipython",
    "version": 3
   },
   "file_extension": ".py",
   "mimetype": "text/x-python",
   "name": "python",
   "nbconvert_exporter": "python",
   "pygments_lexer": "ipython3",
   "version": "3.9.13"
  }
 },
 "nbformat": 4,
 "nbformat_minor": 5
}
