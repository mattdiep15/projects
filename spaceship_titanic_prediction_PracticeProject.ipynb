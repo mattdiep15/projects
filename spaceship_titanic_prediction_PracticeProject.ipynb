{
 "cells": [
  {
   "cell_type": "code",
   "execution_count": 1,
   "id": "f331889f",
   "metadata": {
    "execution": {
     "iopub.execute_input": "2025-06-04T04:50:25.980097Z",
     "iopub.status.busy": "2025-06-04T04:50:25.979700Z",
     "iopub.status.idle": "2025-06-04T04:50:30.593044Z",
     "shell.execute_reply": "2025-06-04T04:50:30.591707Z"
    },
    "papermill": {
     "duration": 4.623299,
     "end_time": "2025-06-04T04:50:30.594941",
     "exception": false,
     "start_time": "2025-06-04T04:50:25.971642",
     "status": "completed"
    },
    "tags": []
   },
   "outputs": [],
   "source": [
    "import pandas as pd\n",
    "import seaborn as sns\n",
    "import matplotlib as plt\n",
    "import numpy as np\n",
    "\n",
    "train_df = pd.read_csv(\"/kaggle/input/spaceship-titanic/train.csv\")\n",
    "test_df = pd.read_csv(\"/kaggle/input/spaceship-titanic/test.csv\")"
   ]
  },
  {
   "cell_type": "code",
   "execution_count": 2,
   "id": "b6c8b064",
   "metadata": {
    "execution": {
     "iopub.execute_input": "2025-06-04T04:50:30.607820Z",
     "iopub.status.busy": "2025-06-04T04:50:30.607167Z",
     "iopub.status.idle": "2025-06-04T04:50:30.640653Z",
     "shell.execute_reply": "2025-06-04T04:50:30.639628Z"
    },
    "papermill": {
     "duration": 0.041278,
     "end_time": "2025-06-04T04:50:30.642220",
     "exception": false,
     "start_time": "2025-06-04T04:50:30.600942",
     "status": "completed"
    },
    "tags": []
   },
   "outputs": [
    {
     "data": {
      "text/html": [
       "<div>\n",
       "<style scoped>\n",
       "    .dataframe tbody tr th:only-of-type {\n",
       "        vertical-align: middle;\n",
       "    }\n",
       "\n",
       "    .dataframe tbody tr th {\n",
       "        vertical-align: top;\n",
       "    }\n",
       "\n",
       "    .dataframe thead th {\n",
       "        text-align: right;\n",
       "    }\n",
       "</style>\n",
       "<table border=\"1\" class=\"dataframe\">\n",
       "  <thead>\n",
       "    <tr style=\"text-align: right;\">\n",
       "      <th></th>\n",
       "      <th>PassengerId</th>\n",
       "      <th>HomePlanet</th>\n",
       "      <th>CryoSleep</th>\n",
       "      <th>Cabin</th>\n",
       "      <th>Destination</th>\n",
       "      <th>Age</th>\n",
       "      <th>VIP</th>\n",
       "      <th>RoomService</th>\n",
       "      <th>FoodCourt</th>\n",
       "      <th>ShoppingMall</th>\n",
       "      <th>Spa</th>\n",
       "      <th>VRDeck</th>\n",
       "      <th>Name</th>\n",
       "      <th>Transported</th>\n",
       "    </tr>\n",
       "  </thead>\n",
       "  <tbody>\n",
       "    <tr>\n",
       "      <th>0</th>\n",
       "      <td>0001_01</td>\n",
       "      <td>Europa</td>\n",
       "      <td>False</td>\n",
       "      <td>B/0/P</td>\n",
       "      <td>TRAPPIST-1e</td>\n",
       "      <td>39.0</td>\n",
       "      <td>False</td>\n",
       "      <td>0.0</td>\n",
       "      <td>0.0</td>\n",
       "      <td>0.0</td>\n",
       "      <td>0.0</td>\n",
       "      <td>0.0</td>\n",
       "      <td>Maham Ofracculy</td>\n",
       "      <td>False</td>\n",
       "    </tr>\n",
       "    <tr>\n",
       "      <th>1</th>\n",
       "      <td>0002_01</td>\n",
       "      <td>Earth</td>\n",
       "      <td>False</td>\n",
       "      <td>F/0/S</td>\n",
       "      <td>TRAPPIST-1e</td>\n",
       "      <td>24.0</td>\n",
       "      <td>False</td>\n",
       "      <td>109.0</td>\n",
       "      <td>9.0</td>\n",
       "      <td>25.0</td>\n",
       "      <td>549.0</td>\n",
       "      <td>44.0</td>\n",
       "      <td>Juanna Vines</td>\n",
       "      <td>True</td>\n",
       "    </tr>\n",
       "    <tr>\n",
       "      <th>2</th>\n",
       "      <td>0003_01</td>\n",
       "      <td>Europa</td>\n",
       "      <td>False</td>\n",
       "      <td>A/0/S</td>\n",
       "      <td>TRAPPIST-1e</td>\n",
       "      <td>58.0</td>\n",
       "      <td>True</td>\n",
       "      <td>43.0</td>\n",
       "      <td>3576.0</td>\n",
       "      <td>0.0</td>\n",
       "      <td>6715.0</td>\n",
       "      <td>49.0</td>\n",
       "      <td>Altark Susent</td>\n",
       "      <td>False</td>\n",
       "    </tr>\n",
       "    <tr>\n",
       "      <th>3</th>\n",
       "      <td>0003_02</td>\n",
       "      <td>Europa</td>\n",
       "      <td>False</td>\n",
       "      <td>A/0/S</td>\n",
       "      <td>TRAPPIST-1e</td>\n",
       "      <td>33.0</td>\n",
       "      <td>False</td>\n",
       "      <td>0.0</td>\n",
       "      <td>1283.0</td>\n",
       "      <td>371.0</td>\n",
       "      <td>3329.0</td>\n",
       "      <td>193.0</td>\n",
       "      <td>Solam Susent</td>\n",
       "      <td>False</td>\n",
       "    </tr>\n",
       "    <tr>\n",
       "      <th>4</th>\n",
       "      <td>0004_01</td>\n",
       "      <td>Earth</td>\n",
       "      <td>False</td>\n",
       "      <td>F/1/S</td>\n",
       "      <td>TRAPPIST-1e</td>\n",
       "      <td>16.0</td>\n",
       "      <td>False</td>\n",
       "      <td>303.0</td>\n",
       "      <td>70.0</td>\n",
       "      <td>151.0</td>\n",
       "      <td>565.0</td>\n",
       "      <td>2.0</td>\n",
       "      <td>Willy Santantines</td>\n",
       "      <td>True</td>\n",
       "    </tr>\n",
       "  </tbody>\n",
       "</table>\n",
       "</div>"
      ],
      "text/plain": [
       "  PassengerId HomePlanet CryoSleep  Cabin  Destination   Age    VIP  \\\n",
       "0     0001_01     Europa     False  B/0/P  TRAPPIST-1e  39.0  False   \n",
       "1     0002_01      Earth     False  F/0/S  TRAPPIST-1e  24.0  False   \n",
       "2     0003_01     Europa     False  A/0/S  TRAPPIST-1e  58.0   True   \n",
       "3     0003_02     Europa     False  A/0/S  TRAPPIST-1e  33.0  False   \n",
       "4     0004_01      Earth     False  F/1/S  TRAPPIST-1e  16.0  False   \n",
       "\n",
       "   RoomService  FoodCourt  ShoppingMall     Spa  VRDeck               Name  \\\n",
       "0          0.0        0.0           0.0     0.0     0.0    Maham Ofracculy   \n",
       "1        109.0        9.0          25.0   549.0    44.0       Juanna Vines   \n",
       "2         43.0     3576.0           0.0  6715.0    49.0      Altark Susent   \n",
       "3          0.0     1283.0         371.0  3329.0   193.0       Solam Susent   \n",
       "4        303.0       70.0         151.0   565.0     2.0  Willy Santantines   \n",
       "\n",
       "   Transported  \n",
       "0        False  \n",
       "1         True  \n",
       "2        False  \n",
       "3        False  \n",
       "4         True  "
      ]
     },
     "execution_count": 2,
     "metadata": {},
     "output_type": "execute_result"
    }
   ],
   "source": [
    "train_df.head()"
   ]
  },
  {
   "cell_type": "markdown",
   "id": "ba28fde0",
   "metadata": {
    "papermill": {
     "duration": 0.005003,
     "end_time": "2025-06-04T04:50:30.653100",
     "exception": false,
     "start_time": "2025-06-04T04:50:30.648097",
     "status": "completed"
    },
    "tags": []
   },
   "source": [
    "Split Cabin into its three components"
   ]
  },
  {
   "cell_type": "code",
   "execution_count": 3,
   "id": "d7f3dd9f",
   "metadata": {
    "execution": {
     "iopub.execute_input": "2025-06-04T04:50:30.665040Z",
     "iopub.status.busy": "2025-06-04T04:50:30.664753Z",
     "iopub.status.idle": "2025-06-04T04:50:30.689692Z",
     "shell.execute_reply": "2025-06-04T04:50:30.688563Z"
    },
    "papermill": {
     "duration": 0.032744,
     "end_time": "2025-06-04T04:50:30.691209",
     "exception": false,
     "start_time": "2025-06-04T04:50:30.658465",
     "status": "completed"
    },
    "tags": []
   },
   "outputs": [],
   "source": [
    "train_df[['Cabin_deck', 'Cabin_num', 'Cabin_side']] = train_df['Cabin'].str.split('/', expand= True)\n",
    "test_df[['Cabin_deck', 'Cabin_num', 'Cabin_side']] = test_df['Cabin'].str.split('/', expand= True)"
   ]
  },
  {
   "cell_type": "code",
   "execution_count": 4,
   "id": "dd0a6a51",
   "metadata": {
    "execution": {
     "iopub.execute_input": "2025-06-04T04:50:30.703493Z",
     "iopub.status.busy": "2025-06-04T04:50:30.703161Z",
     "iopub.status.idle": "2025-06-04T04:50:30.721484Z",
     "shell.execute_reply": "2025-06-04T04:50:30.720526Z"
    },
    "papermill": {
     "duration": 0.026217,
     "end_time": "2025-06-04T04:50:30.723031",
     "exception": false,
     "start_time": "2025-06-04T04:50:30.696814",
     "status": "completed"
    },
    "tags": []
   },
   "outputs": [
    {
     "data": {
      "text/html": [
       "<div>\n",
       "<style scoped>\n",
       "    .dataframe tbody tr th:only-of-type {\n",
       "        vertical-align: middle;\n",
       "    }\n",
       "\n",
       "    .dataframe tbody tr th {\n",
       "        vertical-align: top;\n",
       "    }\n",
       "\n",
       "    .dataframe thead th {\n",
       "        text-align: right;\n",
       "    }\n",
       "</style>\n",
       "<table border=\"1\" class=\"dataframe\">\n",
       "  <thead>\n",
       "    <tr style=\"text-align: right;\">\n",
       "      <th></th>\n",
       "      <th>PassengerId</th>\n",
       "      <th>HomePlanet</th>\n",
       "      <th>CryoSleep</th>\n",
       "      <th>Cabin</th>\n",
       "      <th>Destination</th>\n",
       "      <th>Age</th>\n",
       "      <th>VIP</th>\n",
       "      <th>RoomService</th>\n",
       "      <th>FoodCourt</th>\n",
       "      <th>ShoppingMall</th>\n",
       "      <th>Spa</th>\n",
       "      <th>VRDeck</th>\n",
       "      <th>Name</th>\n",
       "      <th>Transported</th>\n",
       "      <th>Cabin_deck</th>\n",
       "      <th>Cabin_num</th>\n",
       "      <th>Cabin_side</th>\n",
       "    </tr>\n",
       "  </thead>\n",
       "  <tbody>\n",
       "    <tr>\n",
       "      <th>0</th>\n",
       "      <td>0001_01</td>\n",
       "      <td>Europa</td>\n",
       "      <td>False</td>\n",
       "      <td>B/0/P</td>\n",
       "      <td>TRAPPIST-1e</td>\n",
       "      <td>39.0</td>\n",
       "      <td>False</td>\n",
       "      <td>0.0</td>\n",
       "      <td>0.0</td>\n",
       "      <td>0.0</td>\n",
       "      <td>0.0</td>\n",
       "      <td>0.0</td>\n",
       "      <td>Maham Ofracculy</td>\n",
       "      <td>False</td>\n",
       "      <td>B</td>\n",
       "      <td>0</td>\n",
       "      <td>P</td>\n",
       "    </tr>\n",
       "    <tr>\n",
       "      <th>1</th>\n",
       "      <td>0002_01</td>\n",
       "      <td>Earth</td>\n",
       "      <td>False</td>\n",
       "      <td>F/0/S</td>\n",
       "      <td>TRAPPIST-1e</td>\n",
       "      <td>24.0</td>\n",
       "      <td>False</td>\n",
       "      <td>109.0</td>\n",
       "      <td>9.0</td>\n",
       "      <td>25.0</td>\n",
       "      <td>549.0</td>\n",
       "      <td>44.0</td>\n",
       "      <td>Juanna Vines</td>\n",
       "      <td>True</td>\n",
       "      <td>F</td>\n",
       "      <td>0</td>\n",
       "      <td>S</td>\n",
       "    </tr>\n",
       "    <tr>\n",
       "      <th>2</th>\n",
       "      <td>0003_01</td>\n",
       "      <td>Europa</td>\n",
       "      <td>False</td>\n",
       "      <td>A/0/S</td>\n",
       "      <td>TRAPPIST-1e</td>\n",
       "      <td>58.0</td>\n",
       "      <td>True</td>\n",
       "      <td>43.0</td>\n",
       "      <td>3576.0</td>\n",
       "      <td>0.0</td>\n",
       "      <td>6715.0</td>\n",
       "      <td>49.0</td>\n",
       "      <td>Altark Susent</td>\n",
       "      <td>False</td>\n",
       "      <td>A</td>\n",
       "      <td>0</td>\n",
       "      <td>S</td>\n",
       "    </tr>\n",
       "    <tr>\n",
       "      <th>3</th>\n",
       "      <td>0003_02</td>\n",
       "      <td>Europa</td>\n",
       "      <td>False</td>\n",
       "      <td>A/0/S</td>\n",
       "      <td>TRAPPIST-1e</td>\n",
       "      <td>33.0</td>\n",
       "      <td>False</td>\n",
       "      <td>0.0</td>\n",
       "      <td>1283.0</td>\n",
       "      <td>371.0</td>\n",
       "      <td>3329.0</td>\n",
       "      <td>193.0</td>\n",
       "      <td>Solam Susent</td>\n",
       "      <td>False</td>\n",
       "      <td>A</td>\n",
       "      <td>0</td>\n",
       "      <td>S</td>\n",
       "    </tr>\n",
       "    <tr>\n",
       "      <th>4</th>\n",
       "      <td>0004_01</td>\n",
       "      <td>Earth</td>\n",
       "      <td>False</td>\n",
       "      <td>F/1/S</td>\n",
       "      <td>TRAPPIST-1e</td>\n",
       "      <td>16.0</td>\n",
       "      <td>False</td>\n",
       "      <td>303.0</td>\n",
       "      <td>70.0</td>\n",
       "      <td>151.0</td>\n",
       "      <td>565.0</td>\n",
       "      <td>2.0</td>\n",
       "      <td>Willy Santantines</td>\n",
       "      <td>True</td>\n",
       "      <td>F</td>\n",
       "      <td>1</td>\n",
       "      <td>S</td>\n",
       "    </tr>\n",
       "  </tbody>\n",
       "</table>\n",
       "</div>"
      ],
      "text/plain": [
       "  PassengerId HomePlanet CryoSleep  Cabin  Destination   Age    VIP  \\\n",
       "0     0001_01     Europa     False  B/0/P  TRAPPIST-1e  39.0  False   \n",
       "1     0002_01      Earth     False  F/0/S  TRAPPIST-1e  24.0  False   \n",
       "2     0003_01     Europa     False  A/0/S  TRAPPIST-1e  58.0   True   \n",
       "3     0003_02     Europa     False  A/0/S  TRAPPIST-1e  33.0  False   \n",
       "4     0004_01      Earth     False  F/1/S  TRAPPIST-1e  16.0  False   \n",
       "\n",
       "   RoomService  FoodCourt  ShoppingMall     Spa  VRDeck               Name  \\\n",
       "0          0.0        0.0           0.0     0.0     0.0    Maham Ofracculy   \n",
       "1        109.0        9.0          25.0   549.0    44.0       Juanna Vines   \n",
       "2         43.0     3576.0           0.0  6715.0    49.0      Altark Susent   \n",
       "3          0.0     1283.0         371.0  3329.0   193.0       Solam Susent   \n",
       "4        303.0       70.0         151.0   565.0     2.0  Willy Santantines   \n",
       "\n",
       "   Transported Cabin_deck Cabin_num Cabin_side  \n",
       "0        False          B         0          P  \n",
       "1         True          F         0          S  \n",
       "2        False          A         0          S  \n",
       "3        False          A         0          S  \n",
       "4         True          F         1          S  "
      ]
     },
     "execution_count": 4,
     "metadata": {},
     "output_type": "execute_result"
    }
   ],
   "source": [
    "train_df.head()"
   ]
  },
  {
   "cell_type": "code",
   "execution_count": 5,
   "id": "660071c1",
   "metadata": {
    "execution": {
     "iopub.execute_input": "2025-06-04T04:50:30.737386Z",
     "iopub.status.busy": "2025-06-04T04:50:30.736984Z",
     "iopub.status.idle": "2025-06-04T04:50:30.782042Z",
     "shell.execute_reply": "2025-06-04T04:50:30.780902Z"
    },
    "papermill": {
     "duration": 0.053492,
     "end_time": "2025-06-04T04:50:30.783703",
     "exception": false,
     "start_time": "2025-06-04T04:50:30.730211",
     "status": "completed"
    },
    "tags": []
   },
   "outputs": [
    {
     "name": "stderr",
     "output_type": "stream",
     "text": [
      "/tmp/ipykernel_13/2983662238.py:20: FutureWarning: Downcasting object dtype arrays on .fillna, .ffill, .bfill is deprecated and will change in a future version. Call result.infer_objects(copy=False) instead. To opt-in to the future behavior, set `pd.set_option('future.no_silent_downcasting', True)`\n",
      "  train_df['CryoSleep'] = train_df['CryoSleep'].fillna(train_df['CryoSleep'].mode()[0])\n",
      "/tmp/ipykernel_13/2983662238.py:21: FutureWarning: Downcasting object dtype arrays on .fillna, .ffill, .bfill is deprecated and will change in a future version. Call result.infer_objects(copy=False) instead. To opt-in to the future behavior, set `pd.set_option('future.no_silent_downcasting', True)`\n",
      "  test_df['CryoSleep'] = test_df['CryoSleep'].fillna(test_df['CryoSleep'].mode()[0])\n",
      "/tmp/ipykernel_13/2983662238.py:22: FutureWarning: Downcasting object dtype arrays on .fillna, .ffill, .bfill is deprecated and will change in a future version. Call result.infer_objects(copy=False) instead. To opt-in to the future behavior, set `pd.set_option('future.no_silent_downcasting', True)`\n",
      "  train_df['VIP'] = train_df['VIP'].fillna(train_df['VIP'].mode()[0])\n",
      "/tmp/ipykernel_13/2983662238.py:23: FutureWarning: Downcasting object dtype arrays on .fillna, .ffill, .bfill is deprecated and will change in a future version. Call result.infer_objects(copy=False) instead. To opt-in to the future behavior, set `pd.set_option('future.no_silent_downcasting', True)`\n",
      "  test_df['VIP'] = test_df['VIP'].fillna(test_df['VIP'].mode()[0])\n"
     ]
    }
   ],
   "source": [
    "# filling in nulls\n",
    "\n",
    "# fill in spending columns with 0\n",
    "spending_cols = ['RoomService', 'FoodCourt', 'ShoppingMall', 'Spa', 'VRDeck']\n",
    "train_df[spending_cols] = train_df[spending_cols].fillna(0)\n",
    "test_df[spending_cols] = test_df[spending_cols].fillna(0)\n",
    "\n",
    "# fill in age with median age\n",
    "train_df['Age'] = train_df['Age'].fillna(train_df['Age'].median())\n",
    "test_df['Age'] = test_df['Age'].fillna(test_df['Age'].median())\n",
    "\n",
    "\n",
    "# fill in cat columns with mode\n",
    "cat_cols = ['HomePlanet', 'Destination', 'Cabin_deck', 'Cabin_side']\n",
    "for col in cat_cols:\n",
    "    train_df[col] = train_df[col].fillna(train_df[col].mode()[0])\n",
    "    test_df[col] = test_df[col].fillna(test_df[col].mode()[0])\n",
    "\n",
    "# fill in boolean columns with mode\n",
    "train_df['CryoSleep'] = train_df['CryoSleep'].fillna(train_df['CryoSleep'].mode()[0])\n",
    "test_df['CryoSleep'] = test_df['CryoSleep'].fillna(test_df['CryoSleep'].mode()[0])\n",
    "train_df['VIP'] = train_df['VIP'].fillna(train_df['VIP'].mode()[0])\n",
    "test_df['VIP'] = test_df['VIP'].fillna(test_df['VIP'].mode()[0])\n",
    "\n",
    "# # drop all other rows with missing values\n",
    "# train_df = train_df.dropna()\n",
    "# test_df = test_df.dropna()\n",
    "\n",
    "# select only columns we need\n",
    "train_df = train_df[['PassengerId', 'HomePlanet', 'CryoSleep', 'Destination', 'Age',\n",
    "       'VIP', 'RoomService', 'FoodCourt', 'ShoppingMall', 'Spa', 'VRDeck', \n",
    "         'Transported', 'Cabin_deck', 'Cabin_num', 'Cabin_side']]\n",
    "\n",
    "test_df = test_df[['PassengerId', 'HomePlanet', 'CryoSleep', 'Destination', 'Age',\n",
    "       'VIP', 'RoomService', 'FoodCourt', 'ShoppingMall', 'Spa', 'VRDeck', 'Cabin_deck', 'Cabin_num', 'Cabin_side']]"
   ]
  },
  {
   "cell_type": "code",
   "execution_count": 6,
   "id": "bff30fe4",
   "metadata": {
    "execution": {
     "iopub.execute_input": "2025-06-04T04:50:30.796703Z",
     "iopub.status.busy": "2025-06-04T04:50:30.796400Z",
     "iopub.status.idle": "2025-06-04T04:50:30.813459Z",
     "shell.execute_reply": "2025-06-04T04:50:30.812556Z"
    },
    "papermill": {
     "duration": 0.025596,
     "end_time": "2025-06-04T04:50:30.815319",
     "exception": false,
     "start_time": "2025-06-04T04:50:30.789723",
     "status": "completed"
    },
    "tags": []
   },
   "outputs": [
    {
     "data": {
      "text/html": [
       "<div>\n",
       "<style scoped>\n",
       "    .dataframe tbody tr th:only-of-type {\n",
       "        vertical-align: middle;\n",
       "    }\n",
       "\n",
       "    .dataframe tbody tr th {\n",
       "        vertical-align: top;\n",
       "    }\n",
       "\n",
       "    .dataframe thead th {\n",
       "        text-align: right;\n",
       "    }\n",
       "</style>\n",
       "<table border=\"1\" class=\"dataframe\">\n",
       "  <thead>\n",
       "    <tr style=\"text-align: right;\">\n",
       "      <th></th>\n",
       "      <th>PassengerId</th>\n",
       "      <th>HomePlanet</th>\n",
       "      <th>CryoSleep</th>\n",
       "      <th>Destination</th>\n",
       "      <th>Age</th>\n",
       "      <th>VIP</th>\n",
       "      <th>RoomService</th>\n",
       "      <th>FoodCourt</th>\n",
       "      <th>ShoppingMall</th>\n",
       "      <th>Spa</th>\n",
       "      <th>VRDeck</th>\n",
       "      <th>Transported</th>\n",
       "      <th>Cabin_deck</th>\n",
       "      <th>Cabin_num</th>\n",
       "      <th>Cabin_side</th>\n",
       "    </tr>\n",
       "  </thead>\n",
       "  <tbody>\n",
       "    <tr>\n",
       "      <th>0</th>\n",
       "      <td>0001_01</td>\n",
       "      <td>Europa</td>\n",
       "      <td>False</td>\n",
       "      <td>TRAPPIST-1e</td>\n",
       "      <td>39.0</td>\n",
       "      <td>False</td>\n",
       "      <td>0.0</td>\n",
       "      <td>0.0</td>\n",
       "      <td>0.0</td>\n",
       "      <td>0.0</td>\n",
       "      <td>0.0</td>\n",
       "      <td>False</td>\n",
       "      <td>B</td>\n",
       "      <td>0</td>\n",
       "      <td>P</td>\n",
       "    </tr>\n",
       "    <tr>\n",
       "      <th>1</th>\n",
       "      <td>0002_01</td>\n",
       "      <td>Earth</td>\n",
       "      <td>False</td>\n",
       "      <td>TRAPPIST-1e</td>\n",
       "      <td>24.0</td>\n",
       "      <td>False</td>\n",
       "      <td>109.0</td>\n",
       "      <td>9.0</td>\n",
       "      <td>25.0</td>\n",
       "      <td>549.0</td>\n",
       "      <td>44.0</td>\n",
       "      <td>True</td>\n",
       "      <td>F</td>\n",
       "      <td>0</td>\n",
       "      <td>S</td>\n",
       "    </tr>\n",
       "    <tr>\n",
       "      <th>2</th>\n",
       "      <td>0003_01</td>\n",
       "      <td>Europa</td>\n",
       "      <td>False</td>\n",
       "      <td>TRAPPIST-1e</td>\n",
       "      <td>58.0</td>\n",
       "      <td>True</td>\n",
       "      <td>43.0</td>\n",
       "      <td>3576.0</td>\n",
       "      <td>0.0</td>\n",
       "      <td>6715.0</td>\n",
       "      <td>49.0</td>\n",
       "      <td>False</td>\n",
       "      <td>A</td>\n",
       "      <td>0</td>\n",
       "      <td>S</td>\n",
       "    </tr>\n",
       "    <tr>\n",
       "      <th>3</th>\n",
       "      <td>0003_02</td>\n",
       "      <td>Europa</td>\n",
       "      <td>False</td>\n",
       "      <td>TRAPPIST-1e</td>\n",
       "      <td>33.0</td>\n",
       "      <td>False</td>\n",
       "      <td>0.0</td>\n",
       "      <td>1283.0</td>\n",
       "      <td>371.0</td>\n",
       "      <td>3329.0</td>\n",
       "      <td>193.0</td>\n",
       "      <td>False</td>\n",
       "      <td>A</td>\n",
       "      <td>0</td>\n",
       "      <td>S</td>\n",
       "    </tr>\n",
       "    <tr>\n",
       "      <th>4</th>\n",
       "      <td>0004_01</td>\n",
       "      <td>Earth</td>\n",
       "      <td>False</td>\n",
       "      <td>TRAPPIST-1e</td>\n",
       "      <td>16.0</td>\n",
       "      <td>False</td>\n",
       "      <td>303.0</td>\n",
       "      <td>70.0</td>\n",
       "      <td>151.0</td>\n",
       "      <td>565.0</td>\n",
       "      <td>2.0</td>\n",
       "      <td>True</td>\n",
       "      <td>F</td>\n",
       "      <td>1</td>\n",
       "      <td>S</td>\n",
       "    </tr>\n",
       "  </tbody>\n",
       "</table>\n",
       "</div>"
      ],
      "text/plain": [
       "  PassengerId HomePlanet  CryoSleep  Destination   Age    VIP  RoomService  \\\n",
       "0     0001_01     Europa      False  TRAPPIST-1e  39.0  False          0.0   \n",
       "1     0002_01      Earth      False  TRAPPIST-1e  24.0  False        109.0   \n",
       "2     0003_01     Europa      False  TRAPPIST-1e  58.0   True         43.0   \n",
       "3     0003_02     Europa      False  TRAPPIST-1e  33.0  False          0.0   \n",
       "4     0004_01      Earth      False  TRAPPIST-1e  16.0  False        303.0   \n",
       "\n",
       "   FoodCourt  ShoppingMall     Spa  VRDeck  Transported Cabin_deck Cabin_num  \\\n",
       "0        0.0           0.0     0.0     0.0        False          B         0   \n",
       "1        9.0          25.0   549.0    44.0         True          F         0   \n",
       "2     3576.0           0.0  6715.0    49.0        False          A         0   \n",
       "3     1283.0         371.0  3329.0   193.0        False          A         0   \n",
       "4       70.0         151.0   565.0     2.0         True          F         1   \n",
       "\n",
       "  Cabin_side  \n",
       "0          P  \n",
       "1          S  \n",
       "2          S  \n",
       "3          S  \n",
       "4          S  "
      ]
     },
     "execution_count": 6,
     "metadata": {},
     "output_type": "execute_result"
    }
   ],
   "source": [
    "train_df.head()"
   ]
  },
  {
   "cell_type": "code",
   "execution_count": 7,
   "id": "31d731f6",
   "metadata": {
    "execution": {
     "iopub.execute_input": "2025-06-04T04:50:30.830072Z",
     "iopub.status.busy": "2025-06-04T04:50:30.829760Z",
     "iopub.status.idle": "2025-06-04T04:50:31.250465Z",
     "shell.execute_reply": "2025-06-04T04:50:31.249241Z"
    },
    "papermill": {
     "duration": 0.429471,
     "end_time": "2025-06-04T04:50:31.252105",
     "exception": false,
     "start_time": "2025-06-04T04:50:30.822634",
     "status": "completed"
    },
    "tags": []
   },
   "outputs": [
    {
     "name": "stderr",
     "output_type": "stream",
     "text": [
      "/usr/local/lib/python3.11/dist-packages/seaborn/_oldcore.py:1119: FutureWarning: use_inf_as_na option is deprecated and will be removed in a future version. Convert inf values to NaN before operating instead.\n",
      "  with pd.option_context('mode.use_inf_as_na', True):\n"
     ]
    },
    {
     "data": {
      "text/plain": [
       "<Axes: xlabel='FoodCourt', ylabel='Count'>"
      ]
     },
     "execution_count": 7,
     "metadata": {},
     "output_type": "execute_result"
    },
    {
     "data": {
      "image/png": "[encoded data removed]",
      "text/plain": [
       "<Figure size 640x480 with 1 Axes>"
      ]
     },
     "metadata": {},
     "output_type": "display_data"
    }
   ],
   "source": [
    "sns.histplot(\n",
    "    train_df,\n",
    "    x='FoodCourt',\n",
    "    bins=100)"
   ]
  },
  {
   "cell_type": "code",
   "execution_count": 8,
   "id": "efb42783",
   "metadata": {
    "execution": {
     "iopub.execute_input": "2025-06-04T04:50:31.270232Z",
     "iopub.status.busy": "2025-06-04T04:50:31.269886Z",
     "iopub.status.idle": "2025-06-04T04:50:31.294634Z",
     "shell.execute_reply": "2025-06-04T04:50:31.293632Z"
    },
    "papermill": {
     "duration": 0.035185,
     "end_time": "2025-06-04T04:50:31.296361",
     "exception": false,
     "start_time": "2025-06-04T04:50:31.261176",
     "status": "completed"
    },
    "tags": []
   },
   "outputs": [],
   "source": [
    "train_df['RoomService_log'] = np.log1p(train_df['RoomService'])\n",
    "test_df['RoomService_log'] = np.log1p(test_df['RoomService'])"
   ]
  },
  {
   "cell_type": "code",
   "execution_count": 9,
   "id": "fd7b33a6",
   "metadata": {
    "execution": {
     "iopub.execute_input": "2025-06-04T04:50:31.310815Z",
     "iopub.status.busy": "2025-06-04T04:50:31.310507Z",
     "iopub.status.idle": "2025-06-04T04:50:31.624314Z",
     "shell.execute_reply": "2025-06-04T04:50:31.623405Z"
    },
    "papermill": {
     "duration": 0.322787,
     "end_time": "2025-06-04T04:50:31.625877",
     "exception": false,
     "start_time": "2025-06-04T04:50:31.303090",
     "status": "completed"
    },
    "tags": []
   },
   "outputs": [
    {
     "name": "stderr",
     "output_type": "stream",
     "text": [
      "/usr/local/lib/python3.11/dist-packages/seaborn/_oldcore.py:1119: FutureWarning: use_inf_as_na option is deprecated and will be removed in a future version. Convert inf values to NaN before operating instead.\n",
      "  with pd.option_context('mode.use_inf_as_na', True):\n"
     ]
    },
    {
     "data": {
      "text/plain": [
       "<Axes: xlabel='RoomService_log', ylabel='Count'>"
      ]
     },
     "execution_count": 9,
     "metadata": {},
     "output_type": "execute_result"
    },
    {
     "data": {
      "image/png": "[encoded data removed]",
      "text/plain": [
       "<Figure size 640x480 with 1 Axes>"
      ]
     },
     "metadata": {},
     "output_type": "display_data"
    }
   ],
   "source": [
    "# histogram of log(RoomService) \n",
    "sns.histplot(\n",
    "    train_df,\n",
    "    x='RoomService_log',\n",
    "    bins=100,\n",
    "    binrange=(1, 10)\n",
    ")"
   ]
  },
  {
   "cell_type": "code",
   "execution_count": 10,
   "id": "efe2c75e",
   "metadata": {
    "execution": {
     "iopub.execute_input": "2025-06-04T04:50:31.642020Z",
     "iopub.status.busy": "2025-06-04T04:50:31.641380Z",
     "iopub.status.idle": "2025-06-04T04:50:31.656054Z",
     "shell.execute_reply": "2025-06-04T04:50:31.655133Z"
    },
    "papermill": {
     "duration": 0.024517,
     "end_time": "2025-06-04T04:50:31.657732",
     "exception": false,
     "start_time": "2025-06-04T04:50:31.633215",
     "status": "completed"
    },
    "tags": []
   },
   "outputs": [],
   "source": [
    "# bin room service expenses\n",
    "room_service_bins = [-0.1, 0, 2, 4, 6, 8, np.inf]\n",
    "room_service_labels = ['0', '0.001–2', '2–4', '4–6', '6–8', '8+']\n",
    "\n",
    "# apply binning to df\n",
    "train_df['RoomService_bin'] = pd.cut(train_df['RoomService_log'], bins=room_service_bins, labels=room_service_labels, right=True)\n",
    "test_df['RoomService_bin'] = pd.cut(test_df['RoomService_log'], bins=room_service_bins, labels=room_service_labels, right=True)"
   ]
  },
  {
   "cell_type": "code",
   "execution_count": 11,
   "id": "5953caf2",
   "metadata": {
    "execution": {
     "iopub.execute_input": "2025-06-04T04:50:31.672897Z",
     "iopub.status.busy": "2025-06-04T04:50:31.672599Z",
     "iopub.status.idle": "2025-06-04T04:50:31.986531Z",
     "shell.execute_reply": "2025-06-04T04:50:31.985436Z"
    },
    "papermill": {
     "duration": 0.323575,
     "end_time": "2025-06-04T04:50:31.988214",
     "exception": false,
     "start_time": "2025-06-04T04:50:31.664639",
     "status": "completed"
    },
    "tags": []
   },
   "outputs": [
    {
     "name": "stderr",
     "output_type": "stream",
     "text": [
      "/usr/local/lib/python3.11/dist-packages/seaborn/_oldcore.py:1119: FutureWarning: use_inf_as_na option is deprecated and will be removed in a future version. Convert inf values to NaN before operating instead.\n",
      "  with pd.option_context('mode.use_inf_as_na', True):\n"
     ]
    },
    {
     "data": {
      "text/plain": [
       "<Axes: xlabel='FoodCourt_log', ylabel='Count'>"
      ]
     },
     "execution_count": 11,
     "metadata": {},
     "output_type": "execute_result"
    },
    {
     "data": {
      "image/png": "[encoded data removed]",
      "text/plain": [
       "<Figure size 640x480 with 1 Axes>"
      ]
     },
     "metadata": {},
     "output_type": "display_data"
    }
   ],
   "source": [
    "train_df['FoodCourt_log'] = np.log1p(train_df['FoodCourt'])\n",
    "test_df['FoodCourt_log'] = np.log1p(test_df['FoodCourt'])\n",
    "\n",
    "# histogram of log(FoodCourt)\n",
    "sns.histplot(\n",
    "    train_df,\n",
    "    x='FoodCourt_log',\n",
    "    bins=100,\n",
    "    binrange= (0.1,10)\n",
    ")"
   ]
  },
  {
   "cell_type": "code",
   "execution_count": 12,
   "id": "e2934023",
   "metadata": {
    "execution": {
     "iopub.execute_input": "2025-06-04T04:50:32.008725Z",
     "iopub.status.busy": "2025-06-04T04:50:32.008420Z",
     "iopub.status.idle": "2025-06-04T04:50:32.017742Z",
     "shell.execute_reply": "2025-06-04T04:50:32.016777Z"
    },
    "papermill": {
     "duration": 0.019096,
     "end_time": "2025-06-04T04:50:32.019234",
     "exception": false,
     "start_time": "2025-06-04T04:50:32.000138",
     "status": "completed"
    },
    "tags": []
   },
   "outputs": [],
   "source": [
    "# bin food court expenses\n",
    "food_court_bins = [-0.1, 0, 2, 4, 6, 8, np.inf]\n",
    "food_court_labels = ['0', '0–2', '2–4', '4–6', '6–8', '8+']\n",
    "\n",
    "# apply binning to df\n",
    "train_df['FoodCourt_bin'] = pd.cut(train_df['FoodCourt_log'], bins=food_court_bins, labels=food_court_labels, right=True)\n",
    "test_df['FoodCourt_bin'] = pd.cut(test_df['FoodCourt_log'], bins=food_court_bins, labels=food_court_labels, right=True)"
   ]
  },
  {
   "cell_type": "code",
   "execution_count": 13,
   "id": "01b7e00c",
   "metadata": {
    "execution": {
     "iopub.execute_input": "2025-06-04T04:50:32.036412Z",
     "iopub.status.busy": "2025-06-04T04:50:32.036032Z",
     "iopub.status.idle": "2025-06-04T04:50:32.366381Z",
     "shell.execute_reply": "2025-06-04T04:50:32.365392Z"
    },
    "papermill": {
     "duration": 0.34069,
     "end_time": "2025-06-04T04:50:32.367895",
     "exception": false,
     "start_time": "2025-06-04T04:50:32.027205",
     "status": "completed"
    },
    "tags": []
   },
   "outputs": [
    {
     "name": "stderr",
     "output_type": "stream",
     "text": [
      "/usr/local/lib/python3.11/dist-packages/seaborn/_oldcore.py:1119: FutureWarning: use_inf_as_na option is deprecated and will be removed in a future version. Convert inf values to NaN before operating instead.\n",
      "  with pd.option_context('mode.use_inf_as_na', True):\n"
     ]
    },
    {
     "data": {
      "text/plain": [
       "<Axes: xlabel='ShoppingMall_log', ylabel='Count'>"
      ]
     },
     "execution_count": 13,
     "metadata": {},
     "output_type": "execute_result"
    },
    {
     "data": {
      "image/png": "[encoded data removed]",
      "text/plain": [
       "<Figure size 640x480 with 1 Axes>"
      ]
     },
     "metadata": {},
     "output_type": "display_data"
    }
   ],
   "source": [
    "train_df['ShoppingMall_log'] = np.log1p(train_df['ShoppingMall'])\n",
    "test_df['ShoppingMall_log'] = np.log1p(test_df['ShoppingMall'])\n",
    "\n",
    "# histogram of log(ShoppingMall)\n",
    "sns.histplot(\n",
    "    train_df,\n",
    "    x='ShoppingMall_log',\n",
    "    bins=100,\n",
    "    binrange= (0.1,10)\n",
    ")"
   ]
  },
  {
   "cell_type": "code",
   "execution_count": 14,
   "id": "8c108b81",
   "metadata": {
    "execution": {
     "iopub.execute_input": "2025-06-04T04:50:32.384823Z",
     "iopub.status.busy": "2025-06-04T04:50:32.384532Z",
     "iopub.status.idle": "2025-06-04T04:50:32.393942Z",
     "shell.execute_reply": "2025-06-04T04:50:32.392991Z"
    },
    "papermill": {
     "duration": 0.019994,
     "end_time": "2025-06-04T04:50:32.395866",
     "exception": false,
     "start_time": "2025-06-04T04:50:32.375872",
     "status": "completed"
    },
    "tags": []
   },
   "outputs": [],
   "source": [
    "# bin shopping mall expenses\n",
    "shop_mall_bins = [-0.1, 0, 2, 4, 6, 8, np.inf]\n",
    "shop_mall_labels = ['0', '0–2', '2–4', '4–6', '6–8', '8+']\n",
    "\n",
    "# apply binning to df\n",
    "train_df['ShoppingMall_bin'] = pd.cut(train_df['ShoppingMall_log'], bins=shop_mall_bins, labels=shop_mall_labels, right=True)\n",
    "test_df['ShoppingMall_bin'] = pd.cut(test_df['ShoppingMall_log'], bins=shop_mall_bins, labels=shop_mall_labels, right=True)"
   ]
  },
  {
   "cell_type": "code",
   "execution_count": 15,
   "id": "7a82449d",
   "metadata": {
    "execution": {
     "iopub.execute_input": "2025-06-04T04:50:32.413078Z",
     "iopub.status.busy": "2025-06-04T04:50:32.412793Z",
     "iopub.status.idle": "2025-06-04T04:50:32.717832Z",
     "shell.execute_reply": "2025-06-04T04:50:32.717009Z"
    },
    "papermill": {
     "duration": 0.314994,
     "end_time": "2025-06-04T04:50:32.719193",
     "exception": false,
     "start_time": "2025-06-04T04:50:32.404199",
     "status": "completed"
    },
    "tags": []
   },
   "outputs": [
    {
     "name": "stderr",
     "output_type": "stream",
     "text": [
      "/usr/local/lib/python3.11/dist-packages/seaborn/_oldcore.py:1119: FutureWarning: use_inf_as_na option is deprecated and will be removed in a future version. Convert inf values to NaN before operating instead.\n",
      "  with pd.option_context('mode.use_inf_as_na', True):\n"
     ]
    },
    {
     "data": {
      "text/plain": [
       "<Axes: xlabel='Spa_log', ylabel='Count'>"
      ]
     },
     "execution_count": 15,
     "metadata": {},
     "output_type": "execute_result"
    },
    {
     "data": {
      "image/png": "[encoded data removed]",
      "text/plain": [
       "<Figure size 640x480 with 1 Axes>"
      ]
     },
     "metadata": {},
     "output_type": "display_data"
    }
   ],
   "source": [
    "train_df['Spa_log'] = np.log1p(train_df['Spa'])\n",
    "test_df['Spa_log'] = np.log1p(test_df['Spa'])\n",
    "\n",
    "# histogram of log(Spa)\n",
    "sns.histplot(\n",
    "    train_df,\n",
    "    x='Spa_log',\n",
    "    bins=100,\n",
    "    binrange= (0.1,10)\n",
    ")"
   ]
  },
  {
   "cell_type": "code",
   "execution_count": 16,
   "id": "432d36b3",
   "metadata": {
    "execution": {
     "iopub.execute_input": "2025-06-04T04:50:32.736840Z",
     "iopub.status.busy": "2025-06-04T04:50:32.736495Z",
     "iopub.status.idle": "2025-06-04T04:50:32.746199Z",
     "shell.execute_reply": "2025-06-04T04:50:32.745190Z"
    },
    "papermill": {
     "duration": 0.020721,
     "end_time": "2025-06-04T04:50:32.748187",
     "exception": false,
     "start_time": "2025-06-04T04:50:32.727466",
     "status": "completed"
    },
    "tags": []
   },
   "outputs": [],
   "source": [
    "# bin shopping spa expenses\n",
    "spa_bins = [-0.1, 0, 2, 4, 6, 8, np.inf]\n",
    "spa_labels = ['0', '0–2', '2–4', '4–6', '6–8', '8+']\n",
    "\n",
    "# apply binning to df\n",
    "train_df['Spa_bin'] = pd.cut(train_df['Spa_log'], bins=spa_bins, labels=spa_labels, right=True)\n",
    "test_df['Spa_bin'] = pd.cut(test_df['Spa_log'], bins=spa_bins, labels=spa_labels, right=True)"
   ]
  },
  {
   "cell_type": "code",
   "execution_count": 17,
   "id": "b10be4df",
   "metadata": {
    "execution": {
     "iopub.execute_input": "2025-06-04T04:50:32.766794Z",
     "iopub.status.busy": "2025-06-04T04:50:32.766489Z",
     "iopub.status.idle": "2025-06-04T04:50:33.076109Z",
     "shell.execute_reply": "2025-06-04T04:50:33.075294Z"
    },
    "papermill": {
     "duration": 0.320753,
     "end_time": "2025-06-04T04:50:33.077681",
     "exception": false,
     "start_time": "2025-06-04T04:50:32.756928",
     "status": "completed"
    },
    "tags": []
   },
   "outputs": [
    {
     "name": "stderr",
     "output_type": "stream",
     "text": [
      "/usr/local/lib/python3.11/dist-packages/seaborn/_oldcore.py:1119: FutureWarning: use_inf_as_na option is deprecated and will be removed in a future version. Convert inf values to NaN before operating instead.\n",
      "  with pd.option_context('mode.use_inf_as_na', True):\n"
     ]
    },
    {
     "data": {
      "text/plain": [
       "<Axes: xlabel='VRDeck_log', ylabel='Count'>"
      ]
     },
     "execution_count": 17,
     "metadata": {},
     "output_type": "execute_result"
    },
    {
     "data": {
      "image/png": "[encoded data removed]",
      "text/plain": [
       "<Figure size 640x480 with 1 Axes>"
      ]
     },
     "metadata": {},
     "output_type": "display_data"
    }
   ],
   "source": [
    "train_df['VRDeck_log'] = np.log1p(train_df['VRDeck'])\n",
    "test_df['VRDeck_log'] = np.log1p(test_df['VRDeck'])\n",
    "\n",
    "# histogram of log(VRDeck)\n",
    "sns.histplot(\n",
    "    train_df,\n",
    "    x='VRDeck_log',\n",
    "    bins=100,\n",
    "    binrange= (0.1,10)\n",
    ")"
   ]
  },
  {
   "cell_type": "code",
   "execution_count": 18,
   "id": "eb919627",
   "metadata": {
    "execution": {
     "iopub.execute_input": "2025-06-04T04:50:33.097954Z",
     "iopub.status.busy": "2025-06-04T04:50:33.097482Z",
     "iopub.status.idle": "2025-06-04T04:50:33.108616Z",
     "shell.execute_reply": "2025-06-04T04:50:33.107060Z"
    },
    "papermill": {
     "duration": 0.024203,
     "end_time": "2025-06-04T04:50:33.110992",
     "exception": false,
     "start_time": "2025-06-04T04:50:33.086789",
     "status": "completed"
    },
    "tags": []
   },
   "outputs": [],
   "source": [
    "# bin VRDeck expenses\n",
    "VR_bins = [-0.1, 0, 2, 4, 6, 8, np.inf]\n",
    "VR_labels = ['0', '0–2', '2–4', '4–6', '6–8', '8+']\n",
    "\n",
    "# apply binning to df\n",
    "train_df['VRDeck_bin'] = pd.cut(train_df['VRDeck_log'], bins=VR_bins, labels=VR_labels, right=True)\n",
    "test_df['VRDeck_bin'] = pd.cut(test_df['VRDeck_log'], bins=VR_bins, labels=VR_labels, right=True)"
   ]
  },
  {
   "cell_type": "code",
   "execution_count": 19,
   "id": "faae8e78",
   "metadata": {
    "execution": {
     "iopub.execute_input": "2025-06-04T04:50:33.130713Z",
     "iopub.status.busy": "2025-06-04T04:50:33.130426Z",
     "iopub.status.idle": "2025-06-04T04:50:33.159300Z",
     "shell.execute_reply": "2025-06-04T04:50:33.158431Z"
    },
    "papermill": {
     "duration": 0.039804,
     "end_time": "2025-06-04T04:50:33.160820",
     "exception": false,
     "start_time": "2025-06-04T04:50:33.121016",
     "status": "completed"
    },
    "tags": []
   },
   "outputs": [
    {
     "data": {
      "text/html": [
       "<div>\n",
       "<style scoped>\n",
       "    .dataframe tbody tr th:only-of-type {\n",
       "        vertical-align: middle;\n",
       "    }\n",
       "\n",
       "    .dataframe tbody tr th {\n",
       "        vertical-align: top;\n",
       "    }\n",
       "\n",
       "    .dataframe thead th {\n",
       "        text-align: right;\n",
       "    }\n",
       "</style>\n",
       "<table border=\"1\" class=\"dataframe\">\n",
       "  <thead>\n",
       "    <tr style=\"text-align: right;\">\n",
       "      <th></th>\n",
       "      <th>PassengerId</th>\n",
       "      <th>HomePlanet</th>\n",
       "      <th>CryoSleep</th>\n",
       "      <th>Destination</th>\n",
       "      <th>Age</th>\n",
       "      <th>VIP</th>\n",
       "      <th>RoomService</th>\n",
       "      <th>FoodCourt</th>\n",
       "      <th>ShoppingMall</th>\n",
       "      <th>Spa</th>\n",
       "      <th>...</th>\n",
       "      <th>RoomService_log</th>\n",
       "      <th>RoomService_bin</th>\n",
       "      <th>FoodCourt_log</th>\n",
       "      <th>FoodCourt_bin</th>\n",
       "      <th>ShoppingMall_log</th>\n",
       "      <th>ShoppingMall_bin</th>\n",
       "      <th>Spa_log</th>\n",
       "      <th>Spa_bin</th>\n",
       "      <th>VRDeck_log</th>\n",
       "      <th>VRDeck_bin</th>\n",
       "    </tr>\n",
       "  </thead>\n",
       "  <tbody>\n",
       "    <tr>\n",
       "      <th>0</th>\n",
       "      <td>0001_01</td>\n",
       "      <td>Europa</td>\n",
       "      <td>False</td>\n",
       "      <td>TRAPPIST-1e</td>\n",
       "      <td>39.0</td>\n",
       "      <td>False</td>\n",
       "      <td>0.0</td>\n",
       "      <td>0.0</td>\n",
       "      <td>0.0</td>\n",
       "      <td>0.0</td>\n",
       "      <td>...</td>\n",
       "      <td>0.00000</td>\n",
       "      <td>0</td>\n",
       "      <td>0.000000</td>\n",
       "      <td>0</td>\n",
       "      <td>0.000000</td>\n",
       "      <td>0</td>\n",
       "      <td>0.000000</td>\n",
       "      <td>0</td>\n",
       "      <td>0.000000</td>\n",
       "      <td>0</td>\n",
       "    </tr>\n",
       "    <tr>\n",
       "      <th>1</th>\n",
       "      <td>0002_01</td>\n",
       "      <td>Earth</td>\n",
       "      <td>False</td>\n",
       "      <td>TRAPPIST-1e</td>\n",
       "      <td>24.0</td>\n",
       "      <td>False</td>\n",
       "      <td>109.0</td>\n",
       "      <td>9.0</td>\n",
       "      <td>25.0</td>\n",
       "      <td>549.0</td>\n",
       "      <td>...</td>\n",
       "      <td>4.70048</td>\n",
       "      <td>4–6</td>\n",
       "      <td>2.302585</td>\n",
       "      <td>2–4</td>\n",
       "      <td>3.258097</td>\n",
       "      <td>2–4</td>\n",
       "      <td>6.309918</td>\n",
       "      <td>6–8</td>\n",
       "      <td>3.806662</td>\n",
       "      <td>2–4</td>\n",
       "    </tr>\n",
       "    <tr>\n",
       "      <th>2</th>\n",
       "      <td>0003_01</td>\n",
       "      <td>Europa</td>\n",
       "      <td>False</td>\n",
       "      <td>TRAPPIST-1e</td>\n",
       "      <td>58.0</td>\n",
       "      <td>True</td>\n",
       "      <td>43.0</td>\n",
       "      <td>3576.0</td>\n",
       "      <td>0.0</td>\n",
       "      <td>6715.0</td>\n",
       "      <td>...</td>\n",
       "      <td>3.78419</td>\n",
       "      <td>2–4</td>\n",
       "      <td>8.182280</td>\n",
       "      <td>8+</td>\n",
       "      <td>0.000000</td>\n",
       "      <td>0</td>\n",
       "      <td>8.812248</td>\n",
       "      <td>8+</td>\n",
       "      <td>3.912023</td>\n",
       "      <td>2–4</td>\n",
       "    </tr>\n",
       "  </tbody>\n",
       "</table>\n",
       "<p>3 rows × 25 columns</p>\n",
       "</div>"
      ],
      "text/plain": [
       "  PassengerId HomePlanet  CryoSleep  Destination   Age    VIP  RoomService  \\\n",
       "0     0001_01     Europa      False  TRAPPIST-1e  39.0  False          0.0   \n",
       "1     0002_01      Earth      False  TRAPPIST-1e  24.0  False        109.0   \n",
       "2     0003_01     Europa      False  TRAPPIST-1e  58.0   True         43.0   \n",
       "\n",
       "   FoodCourt  ShoppingMall     Spa  ...  RoomService_log  RoomService_bin  \\\n",
       "0        0.0           0.0     0.0  ...          0.00000                0   \n",
       "1        9.0          25.0   549.0  ...          4.70048              4–6   \n",
       "2     3576.0           0.0  6715.0  ...          3.78419              2–4   \n",
       "\n",
       "  FoodCourt_log FoodCourt_bin ShoppingMall_log  ShoppingMall_bin   Spa_log  \\\n",
       "0      0.000000             0         0.000000                 0  0.000000   \n",
       "1      2.302585           2–4         3.258097               2–4  6.309918   \n",
       "2      8.182280            8+         0.000000                 0  8.812248   \n",
       "\n",
       "   Spa_bin VRDeck_log  VRDeck_bin  \n",
       "0        0   0.000000           0  \n",
       "1      6–8   3.806662         2–4  \n",
       "2       8+   3.912023         2–4  \n",
       "\n",
       "[3 rows x 25 columns]"
      ]
     },
     "execution_count": 19,
     "metadata": {},
     "output_type": "execute_result"
    }
   ],
   "source": [
    "train_df.head(3)"
   ]
  },
  {
   "cell_type": "code",
   "execution_count": 20,
   "id": "c6521c26",
   "metadata": {
    "execution": {
     "iopub.execute_input": "2025-06-04T04:50:33.181724Z",
     "iopub.status.busy": "2025-06-04T04:50:33.180423Z",
     "iopub.status.idle": "2025-06-04T04:50:33.374110Z",
     "shell.execute_reply": "2025-06-04T04:50:33.373163Z"
    },
    "papermill": {
     "duration": 0.205145,
     "end_time": "2025-06-04T04:50:33.375872",
     "exception": false,
     "start_time": "2025-06-04T04:50:33.170727",
     "status": "completed"
    },
    "tags": []
   },
   "outputs": [
    {
     "name": "stderr",
     "output_type": "stream",
     "text": [
      "/usr/local/lib/python3.11/dist-packages/seaborn/_oldcore.py:1119: FutureWarning: use_inf_as_na option is deprecated and will be removed in a future version. Convert inf values to NaN before operating instead.\n",
      "  with pd.option_context('mode.use_inf_as_na', True):\n"
     ]
    },
    {
     "data": {
      "text/plain": [
       "<Axes: xlabel='Age', ylabel='Count'>"
      ]
     },
     "execution_count": 20,
     "metadata": {},
     "output_type": "execute_result"
    },
    {
     "data": {
      "image/png": "[encoded data removed]",
      "text/plain": [
       "<Figure size 640x480 with 1 Axes>"
      ]
     },
     "metadata": {},
     "output_type": "display_data"
    }
   ],
   "source": [
    "# histogram of ages\n",
    "sns.histplot(\n",
    "    train_df,\n",
    "    x='Age',\n",
    "    bins=10,\n",
    ")"
   ]
  },
  {
   "cell_type": "code",
   "execution_count": 21,
   "id": "74c84034",
   "metadata": {
    "execution": {
     "iopub.execute_input": "2025-06-04T04:50:33.396347Z",
     "iopub.status.busy": "2025-06-04T04:50:33.395975Z",
     "iopub.status.idle": "2025-06-04T04:50:33.415677Z",
     "shell.execute_reply": "2025-06-04T04:50:33.414697Z"
    },
    "papermill": {
     "duration": 0.03166,
     "end_time": "2025-06-04T04:50:33.417364",
     "exception": false,
     "start_time": "2025-06-04T04:50:33.385704",
     "status": "completed"
    },
    "tags": []
   },
   "outputs": [],
   "source": [
    "# divide age into 10 bins\n",
    "train_df['Age_bin'] = pd.qcut(train_df['Age'], q=10)\n",
    "test_df['Age_bin'] = pd.qcut(test_df['Age'], q=10)"
   ]
  },
  {
   "cell_type": "code",
   "execution_count": 22,
   "id": "edd46e4d",
   "metadata": {
    "execution": {
     "iopub.execute_input": "2025-06-04T04:50:33.436729Z",
     "iopub.status.busy": "2025-06-04T04:50:33.436466Z",
     "iopub.status.idle": "2025-06-04T04:50:33.445539Z",
     "shell.execute_reply": "2025-06-04T04:50:33.444578Z"
    },
    "papermill": {
     "duration": 0.02058,
     "end_time": "2025-06-04T04:50:33.447125",
     "exception": false,
     "start_time": "2025-06-04T04:50:33.426545",
     "status": "completed"
    },
    "tags": []
   },
   "outputs": [],
   "source": [
    "train_df = train_df[['PassengerId', 'HomePlanet', 'CryoSleep', 'Destination', 'Age_bin', 'VIP', 'RoomService_bin',\n",
    "       'FoodCourt_bin', 'ShoppingMall_bin', 'Spa_bin', 'VRDeck_bin', 'Transported',\n",
    "       'Cabin_deck', 'Cabin_side']]\n",
    "test_df = test_df[['PassengerId', 'HomePlanet', 'CryoSleep', 'Destination', 'Age_bin', 'VIP', 'RoomService_bin',\n",
    "       'FoodCourt_bin', 'ShoppingMall_bin', 'Spa_bin', 'VRDeck_bin',\n",
    "       'Cabin_deck', 'Cabin_side']]"
   ]
  },
  {
   "cell_type": "code",
   "execution_count": 23,
   "id": "badaa428",
   "metadata": {
    "execution": {
     "iopub.execute_input": "2025-06-04T04:50:33.466799Z",
     "iopub.status.busy": "2025-06-04T04:50:33.466477Z",
     "iopub.status.idle": "2025-06-04T04:50:33.483355Z",
     "shell.execute_reply": "2025-06-04T04:50:33.482484Z"
    },
    "papermill": {
     "duration": 0.028412,
     "end_time": "2025-06-04T04:50:33.484793",
     "exception": false,
     "start_time": "2025-06-04T04:50:33.456381",
     "status": "completed"
    },
    "tags": []
   },
   "outputs": [
    {
     "data": {
      "text/html": [
       "<div>\n",
       "<style scoped>\n",
       "    .dataframe tbody tr th:only-of-type {\n",
       "        vertical-align: middle;\n",
       "    }\n",
       "\n",
       "    .dataframe tbody tr th {\n",
       "        vertical-align: top;\n",
       "    }\n",
       "\n",
       "    .dataframe thead th {\n",
       "        text-align: right;\n",
       "    }\n",
       "</style>\n",
       "<table border=\"1\" class=\"dataframe\">\n",
       "  <thead>\n",
       "    <tr style=\"text-align: right;\">\n",
       "      <th></th>\n",
       "      <th>PassengerId</th>\n",
       "      <th>HomePlanet</th>\n",
       "      <th>CryoSleep</th>\n",
       "      <th>Destination</th>\n",
       "      <th>Age_bin</th>\n",
       "      <th>VIP</th>\n",
       "      <th>RoomService_bin</th>\n",
       "      <th>FoodCourt_bin</th>\n",
       "      <th>ShoppingMall_bin</th>\n",
       "      <th>Spa_bin</th>\n",
       "      <th>VRDeck_bin</th>\n",
       "      <th>Transported</th>\n",
       "      <th>Cabin_deck</th>\n",
       "      <th>Cabin_side</th>\n",
       "    </tr>\n",
       "  </thead>\n",
       "  <tbody>\n",
       "    <tr>\n",
       "      <th>0</th>\n",
       "      <td>0001_01</td>\n",
       "      <td>Europa</td>\n",
       "      <td>False</td>\n",
       "      <td>TRAPPIST-1e</td>\n",
       "      <td>(35.0, 40.0]</td>\n",
       "      <td>False</td>\n",
       "      <td>0</td>\n",
       "      <td>0</td>\n",
       "      <td>0</td>\n",
       "      <td>0</td>\n",
       "      <td>0</td>\n",
       "      <td>False</td>\n",
       "      <td>B</td>\n",
       "      <td>P</td>\n",
       "    </tr>\n",
       "    <tr>\n",
       "      <th>1</th>\n",
       "      <td>0002_01</td>\n",
       "      <td>Earth</td>\n",
       "      <td>False</td>\n",
       "      <td>TRAPPIST-1e</td>\n",
       "      <td>(21.0, 24.0]</td>\n",
       "      <td>False</td>\n",
       "      <td>4–6</td>\n",
       "      <td>2–4</td>\n",
       "      <td>2–4</td>\n",
       "      <td>6–8</td>\n",
       "      <td>2–4</td>\n",
       "      <td>True</td>\n",
       "      <td>F</td>\n",
       "      <td>S</td>\n",
       "    </tr>\n",
       "    <tr>\n",
       "      <th>2</th>\n",
       "      <td>0003_01</td>\n",
       "      <td>Europa</td>\n",
       "      <td>False</td>\n",
       "      <td>TRAPPIST-1e</td>\n",
       "      <td>(49.0, 79.0]</td>\n",
       "      <td>True</td>\n",
       "      <td>2–4</td>\n",
       "      <td>8+</td>\n",
       "      <td>0</td>\n",
       "      <td>8+</td>\n",
       "      <td>2–4</td>\n",
       "      <td>False</td>\n",
       "      <td>A</td>\n",
       "      <td>S</td>\n",
       "    </tr>\n",
       "  </tbody>\n",
       "</table>\n",
       "</div>"
      ],
      "text/plain": [
       "  PassengerId HomePlanet  CryoSleep  Destination       Age_bin    VIP  \\\n",
       "0     0001_01     Europa      False  TRAPPIST-1e  (35.0, 40.0]  False   \n",
       "1     0002_01      Earth      False  TRAPPIST-1e  (21.0, 24.0]  False   \n",
       "2     0003_01     Europa      False  TRAPPIST-1e  (49.0, 79.0]   True   \n",
       "\n",
       "  RoomService_bin FoodCourt_bin ShoppingMall_bin Spa_bin VRDeck_bin  \\\n",
       "0               0             0                0       0          0   \n",
       "1             4–6           2–4              2–4     6–8        2–4   \n",
       "2             2–4            8+                0      8+        2–4   \n",
       "\n",
       "   Transported Cabin_deck Cabin_side  \n",
       "0        False          B          P  \n",
       "1         True          F          S  \n",
       "2        False          A          S  "
      ]
     },
     "execution_count": 23,
     "metadata": {},
     "output_type": "execute_result"
    }
   ],
   "source": [
    "train_df.head(3)"
   ]
  },
  {
   "cell_type": "markdown",
   "id": "a8f35020",
   "metadata": {
    "papermill": {
     "duration": 0.008986,
     "end_time": "2025-06-04T04:50:33.503325",
     "exception": false,
     "start_time": "2025-06-04T04:50:33.494339",
     "status": "completed"
    },
    "tags": []
   },
   "source": [
    "## Model Building"
   ]
  },
  {
   "cell_type": "code",
   "execution_count": 24,
   "id": "1a50a60e",
   "metadata": {
    "execution": {
     "iopub.execute_input": "2025-06-04T04:50:33.524949Z",
     "iopub.status.busy": "2025-06-04T04:50:33.524569Z",
     "iopub.status.idle": "2025-06-04T04:50:33.531575Z",
     "shell.execute_reply": "2025-06-04T04:50:33.530664Z"
    },
    "papermill": {
     "duration": 0.019966,
     "end_time": "2025-06-04T04:50:33.533193",
     "exception": false,
     "start_time": "2025-06-04T04:50:33.513227",
     "status": "completed"
    },
    "tags": []
   },
   "outputs": [],
   "source": [
    "X = train_df[['HomePlanet', 'CryoSleep', 'Destination', 'Age_bin', 'VIP', 'RoomService_bin',\n",
    "       'FoodCourt_bin', 'ShoppingMall_bin', 'Spa_bin', 'VRDeck_bin',\n",
    "       'Cabin_deck', 'Cabin_side']]\n",
    "y = train_df['Transported']"
   ]
  },
  {
   "cell_type": "code",
   "execution_count": 25,
   "id": "c4078ace",
   "metadata": {
    "execution": {
     "iopub.execute_input": "2025-06-04T04:50:33.553634Z",
     "iopub.status.busy": "2025-06-04T04:50:33.553334Z",
     "iopub.status.idle": "2025-06-04T04:50:34.973345Z",
     "shell.execute_reply": "2025-06-04T04:50:34.972377Z"
    },
    "papermill": {
     "duration": 1.432405,
     "end_time": "2025-06-04T04:50:34.975055",
     "exception": false,
     "start_time": "2025-06-04T04:50:33.542650",
     "status": "completed"
    },
    "tags": []
   },
   "outputs": [],
   "source": [
    "from sklearn.compose import ColumnTransformer\n",
    "from sklearn.preprocessing import OneHotEncoder\n",
    "from sklearn.pipeline import Pipeline\n",
    "from sklearn.ensemble import RandomForestClassifier\n",
    "from sklearn.model_selection import train_test_split\n",
    "from sklearn.metrics import accuracy_score, mean_squared_error, r2_score\n",
    "from sklearn.linear_model import LinearRegression\n",
    "from xgboost import XGBClassifier"
   ]
  },
  {
   "cell_type": "code",
   "execution_count": 26,
   "id": "603495ee",
   "metadata": {
    "execution": {
     "iopub.execute_input": "2025-06-04T04:50:34.995138Z",
     "iopub.status.busy": "2025-06-04T04:50:34.994840Z",
     "iopub.status.idle": "2025-06-04T04:50:35.008521Z",
     "shell.execute_reply": "2025-06-04T04:50:35.007194Z"
    },
    "papermill": {
     "duration": 0.026137,
     "end_time": "2025-06-04T04:50:35.010781",
     "exception": false,
     "start_time": "2025-06-04T04:50:34.984644",
     "status": "completed"
    },
    "tags": []
   },
   "outputs": [],
   "source": [
    "# catagorical columns\n",
    "cat_cols= X.select_dtypes(include= ['object', 'category']).columns\n",
    "\n",
    "# preprocessing pipeline\n",
    "preprocessor = ColumnTransformer([\n",
    "    ('cat', OneHotEncoder(handle_unknown= 'ignore'), cat_cols)\n",
    "], remainder= 'passthrough')\n",
    "\n",
    "# split data \n",
    "X_train, X_test, y_train, y_test = train_test_split(X, y, test_size = 0.2, random_state=42)"
   ]
  },
  {
   "cell_type": "code",
   "execution_count": 27,
   "id": "38043980",
   "metadata": {
    "execution": {
     "iopub.execute_input": "2025-06-04T04:50:35.031529Z",
     "iopub.status.busy": "2025-06-04T04:50:35.030920Z",
     "iopub.status.idle": "2025-06-04T04:50:38.418761Z",
     "shell.execute_reply": "2025-06-04T04:50:38.417850Z"
    },
    "papermill": {
     "duration": 3.400308,
     "end_time": "2025-06-04T04:50:38.420544",
     "exception": false,
     "start_time": "2025-06-04T04:50:35.020236",
     "status": "completed"
    },
    "tags": []
   },
   "outputs": [
    {
     "data": {
      "text/html": [
       "<style>#sk-container-id-1 {color: black;background-color: white;}#sk-container-id-1 pre{padding: 0;}#sk-container-id-1 div.sk-toggleable {background-color: white;}#sk-container-id-1 label.sk-toggleable__label {cursor: pointer;display: block;width: 100%;margin-bottom: 0;padding: 0.3em;box-sizing: border-box;text-align: center;}#sk-container-id-1 label.sk-toggleable__label-arrow:before {content: \"▸\";float: left;margin-right: 0.25em;color: #696969;}#sk-container-id-1 label.sk-toggleable__label-arrow:hover:before {color: black;}#sk-container-id-1 div.sk-estimator:hover label.sk-toggleable__label-arrow:before {color: black;}#sk-container-id-1 div.sk-toggleable__content {max-height: 0;max-width: 0;overflow: hidden;text-align: left;background-color: #f0f8ff;}#sk-container-id-1 div.sk-toggleable__content pre {margin: 0.2em;color: black;border-radius: 0.25em;background-color: #f0f8ff;}#sk-container-id-1 input.sk-toggleable__control:checked~div.sk-toggleable__content {max-height: 200px;max-width: 100%;overflow: auto;}#sk-container-id-1 input.sk-toggleable__control:checked~label.sk-toggleable__label-arrow:before {content: \"▾\";}#sk-container-id-1 div.sk-estimator input.sk-toggleable__control:checked~label.sk-toggleable__label {background-color: #d4ebff;}#sk-container-id-1 div.sk-label input.sk-toggleable__control:checked~label.sk-toggleable__label {background-color: #d4ebff;}#sk-container-id-1 input.sk-hidden--visually {border: 0;clip: rect(1px 1px 1px 1px);clip: rect(1px, 1px, 1px, 1px);height: 1px;margin: -1px;overflow: hidden;padding: 0;position: absolute;width: 1px;}#sk-container-id-1 div.sk-estimator {font-family: monospace;background-color: #f0f8ff;border: 1px dotted black;border-radius: 0.25em;box-sizing: border-box;margin-bottom: 0.5em;}#sk-container-id-1 div.sk-estimator:hover {background-color: #d4ebff;}#sk-container-id-1 div.sk-parallel-item::after {content: \"\";width: 100%;border-bottom: 1px solid gray;flex-grow: 1;}#sk-container-id-1 div.sk-label:hover label.sk-toggleable__label {background-color: #d4ebff;}#sk-container-id-1 div.sk-serial::before {content: \"\";position: absolute;border-left: 1px solid gray;box-sizing: border-box;top: 0;bottom: 0;left: 50%;z-index: 0;}#sk-container-id-1 div.sk-serial {display: flex;flex-direction: column;align-items: center;background-color: white;padding-right: 0.2em;padding-left: 0.2em;position: relative;}#sk-container-id-1 div.sk-item {position: relative;z-index: 1;}#sk-container-id-1 div.sk-parallel {display: flex;align-items: stretch;justify-content: center;background-color: white;position: relative;}#sk-container-id-1 div.sk-item::before, #sk-container-id-1 div.sk-parallel-item::before {content: \"\";position: absolute;border-left: 1px solid gray;box-sizing: border-box;top: 0;bottom: 0;left: 50%;z-index: -1;}#sk-container-id-1 div.sk-parallel-item {display: flex;flex-direction: column;z-index: 1;position: relative;background-color: white;}#sk-container-id-1 div.sk-parallel-item:first-child::after {align-self: flex-end;width: 50%;}#sk-container-id-1 div.sk-parallel-item:last-child::after {align-self: flex-start;width: 50%;}#sk-container-id-1 div.sk-parallel-item:only-child::after {width: 0;}#sk-container-id-1 div.sk-dashed-wrapped {border: 1px dashed gray;margin: 0 0.4em 0.5em 0.4em;box-sizing: border-box;padding-bottom: 0.4em;background-color: white;}#sk-container-id-1 div.sk-label label {font-family: monospace;font-weight: bold;display: inline-block;line-height: 1.2em;}#sk-container-id-1 div.sk-label-container {text-align: center;}#sk-container-id-1 div.sk-container {/* jupyter's `normalize.less` sets `[hidden] { display: none; }` but bootstrap.min.css set `[hidden] { display: none !important; }` so we also need the `!important` here to be able to override the default hidden behavior on the sphinx rendered scikit-learn.org. See: https://github.com/scikit-learn/scikit-learn/issues/21755 */display: inline-block !important;position: relative;}#sk-container-id-1 div.sk-text-repr-fallback {display: none;}</style><div id=\"sk-container-id-1\" class=\"sk-top-container\"><div class=\"sk-text-repr-fallback\"><pre>Pipeline(steps=[(&#x27;preprocessor&#x27;,\n",
       "                 ColumnTransformer(remainder=&#x27;passthrough&#x27;,\n",
       "                                   transformers=[(&#x27;cat&#x27;,\n",
       "                                                  OneHotEncoder(handle_unknown=&#x27;ignore&#x27;),\n",
       "                                                  Index([&#x27;HomePlanet&#x27;, &#x27;Destination&#x27;, &#x27;Age_bin&#x27;, &#x27;RoomService_bin&#x27;,\n",
       "       &#x27;FoodCourt_bin&#x27;, &#x27;ShoppingMall_bin&#x27;, &#x27;Spa_bin&#x27;, &#x27;VRDeck_bin&#x27;,\n",
       "       &#x27;Cabin_deck&#x27;, &#x27;Cabin_side&#x27;],\n",
       "      dtype=&#x27;object&#x27;))])),\n",
       "                (&#x27;classifier&#x27;, RandomForestClassifier(random_state=42))])</pre><b>In a Jupyter environment, please rerun this cell to show the HTML representation or trust the notebook. <br />On GitHub, the HTML representation is unable to render, please try loading this page with nbviewer.org.</b></div><div class=\"sk-container\" hidden><div class=\"sk-item sk-dashed-wrapped\"><div class=\"sk-label-container\"><div class=\"sk-label sk-toggleable\"><input class=\"sk-toggleable__control sk-hidden--visually\" id=\"sk-estimator-id-1\" type=\"checkbox\" ><label for=\"sk-estimator-id-1\" class=\"sk-toggleable__label sk-toggleable__label-arrow\">Pipeline</label><div class=\"sk-toggleable__content\"><pre>Pipeline(steps=[(&#x27;preprocessor&#x27;,\n",
       "                 ColumnTransformer(remainder=&#x27;passthrough&#x27;,\n",
       "                                   transformers=[(&#x27;cat&#x27;,\n",
       "                                                  OneHotEncoder(handle_unknown=&#x27;ignore&#x27;),\n",
       "                                                  Index([&#x27;HomePlanet&#x27;, &#x27;Destination&#x27;, &#x27;Age_bin&#x27;, &#x27;RoomService_bin&#x27;,\n",
       "       &#x27;FoodCourt_bin&#x27;, &#x27;ShoppingMall_bin&#x27;, &#x27;Spa_bin&#x27;, &#x27;VRDeck_bin&#x27;,\n",
       "       &#x27;Cabin_deck&#x27;, &#x27;Cabin_side&#x27;],\n",
       "      dtype=&#x27;object&#x27;))])),\n",
       "                (&#x27;classifier&#x27;, RandomForestClassifier(random_state=42))])</pre></div></div></div><div class=\"sk-serial\"><div class=\"sk-item sk-dashed-wrapped\"><div class=\"sk-label-container\"><div class=\"sk-label sk-toggleable\"><input class=\"sk-toggleable__control sk-hidden--visually\" id=\"sk-estimator-id-2\" type=\"checkbox\" ><label for=\"sk-estimator-id-2\" class=\"sk-toggleable__label sk-toggleable__label-arrow\">preprocessor: ColumnTransformer</label><div class=\"sk-toggleable__content\"><pre>ColumnTransformer(remainder=&#x27;passthrough&#x27;,\n",
       "                  transformers=[(&#x27;cat&#x27;, OneHotEncoder(handle_unknown=&#x27;ignore&#x27;),\n",
       "                                 Index([&#x27;HomePlanet&#x27;, &#x27;Destination&#x27;, &#x27;Age_bin&#x27;, &#x27;RoomService_bin&#x27;,\n",
       "       &#x27;FoodCourt_bin&#x27;, &#x27;ShoppingMall_bin&#x27;, &#x27;Spa_bin&#x27;, &#x27;VRDeck_bin&#x27;,\n",
       "       &#x27;Cabin_deck&#x27;, &#x27;Cabin_side&#x27;],\n",
       "      dtype=&#x27;object&#x27;))])</pre></div></div></div><div class=\"sk-parallel\"><div class=\"sk-parallel-item\"><div class=\"sk-item\"><div class=\"sk-label-container\"><div class=\"sk-label sk-toggleable\"><input class=\"sk-toggleable__control sk-hidden--visually\" id=\"sk-estimator-id-3\" type=\"checkbox\" ><label for=\"sk-estimator-id-3\" class=\"sk-toggleable__label sk-toggleable__label-arrow\">cat</label><div class=\"sk-toggleable__content\"><pre>Index([&#x27;HomePlanet&#x27;, &#x27;Destination&#x27;, &#x27;Age_bin&#x27;, &#x27;RoomService_bin&#x27;,\n",
       "       &#x27;FoodCourt_bin&#x27;, &#x27;ShoppingMall_bin&#x27;, &#x27;Spa_bin&#x27;, &#x27;VRDeck_bin&#x27;,\n",
       "       &#x27;Cabin_deck&#x27;, &#x27;Cabin_side&#x27;],\n",
       "      dtype=&#x27;object&#x27;)</pre></div></div></div><div class=\"sk-serial\"><div class=\"sk-item\"><div class=\"sk-estimator sk-toggleable\"><input class=\"sk-toggleable__control sk-hidden--visually\" id=\"sk-estimator-id-4\" type=\"checkbox\" ><label for=\"sk-estimator-id-4\" class=\"sk-toggleable__label sk-toggleable__label-arrow\">OneHotEncoder</label><div class=\"sk-toggleable__content\"><pre>OneHotEncoder(handle_unknown=&#x27;ignore&#x27;)</pre></div></div></div></div></div></div><div class=\"sk-parallel-item\"><div class=\"sk-item\"><div class=\"sk-label-container\"><div class=\"sk-label sk-toggleable\"><input class=\"sk-toggleable__control sk-hidden--visually\" id=\"sk-estimator-id-5\" type=\"checkbox\" ><label for=\"sk-estimator-id-5\" class=\"sk-toggleable__label sk-toggleable__label-arrow\">remainder</label><div class=\"sk-toggleable__content\"><pre>[&#x27;CryoSleep&#x27;, &#x27;VIP&#x27;]</pre></div></div></div><div class=\"sk-serial\"><div class=\"sk-item\"><div class=\"sk-estimator sk-toggleable\"><input class=\"sk-toggleable__control sk-hidden--visually\" id=\"sk-estimator-id-6\" type=\"checkbox\" ><label for=\"sk-estimator-id-6\" class=\"sk-toggleable__label sk-toggleable__label-arrow\">passthrough</label><div class=\"sk-toggleable__content\"><pre>passthrough</pre></div></div></div></div></div></div></div></div><div class=\"sk-item\"><div class=\"sk-estimator sk-toggleable\"><input class=\"sk-toggleable__control sk-hidden--visually\" id=\"sk-estimator-id-7\" type=\"checkbox\" ><label for=\"sk-estimator-id-7\" class=\"sk-toggleable__label sk-toggleable__label-arrow\">RandomForestClassifier</label><div class=\"sk-toggleable__content\"><pre>RandomForestClassifier(random_state=42)</pre></div></div></div></div></div></div></div>"
      ],
      "text/plain": [
       "Pipeline(steps=[('preprocessor',\n",
       "                 ColumnTransformer(remainder='passthrough',\n",
       "                                   transformers=[('cat',\n",
       "                                                  OneHotEncoder(handle_unknown='ignore'),\n",
       "                                                  Index(['HomePlanet', 'Destination', 'Age_bin', 'RoomService_bin',\n",
       "       'FoodCourt_bin', 'ShoppingMall_bin', 'Spa_bin', 'VRDeck_bin',\n",
       "       'Cabin_deck', 'Cabin_side'],\n",
       "      dtype='object'))])),\n",
       "                ('classifier', RandomForestClassifier(random_state=42))])"
      ]
     },
     "execution_count": 27,
     "metadata": {},
     "output_type": "execute_result"
    }
   ],
   "source": [
    "# create pipeline\n",
    "pipeline = Pipeline([\n",
    "    ('preprocessor', preprocessor),\n",
    "    ('classifier', RandomForestClassifier(random_state=42))\n",
    "])\n",
    "\n",
    "pipeline.fit(X_train, y_train)"
   ]
  },
  {
   "cell_type": "code",
   "execution_count": 28,
   "id": "1170ca4c",
   "metadata": {
    "execution": {
     "iopub.execute_input": "2025-06-04T04:50:38.441652Z",
     "iopub.status.busy": "2025-06-04T04:50:38.440863Z",
     "iopub.status.idle": "2025-06-04T04:50:38.501169Z",
     "shell.execute_reply": "2025-06-04T04:50:38.500006Z"
    },
    "papermill": {
     "duration": 0.072356,
     "end_time": "2025-06-04T04:50:38.502731",
     "exception": false,
     "start_time": "2025-06-04T04:50:38.430375",
     "status": "completed"
    },
    "tags": []
   },
   "outputs": [
    {
     "name": "stdout",
     "output_type": "stream",
     "text": [
      "Accuracy: 0.7752\n"
     ]
    }
   ],
   "source": [
    "# calculate accuracy\n",
    "y_pred = pipeline.predict(X_test)\n",
    "accuracy = accuracy_score(y_test, y_pred)\n",
    "\n",
    "print(f\"Accuracy: {accuracy:.4f}\")"
   ]
  },
  {
   "cell_type": "code",
   "execution_count": 29,
   "id": "262086e3",
   "metadata": {
    "execution": {
     "iopub.execute_input": "2025-06-04T04:50:38.523201Z",
     "iopub.status.busy": "2025-06-04T04:50:38.522889Z",
     "iopub.status.idle": "2025-06-04T04:50:38.765219Z",
     "shell.execute_reply": "2025-06-04T04:50:38.764325Z"
    },
    "papermill": {
     "duration": 0.254398,
     "end_time": "2025-06-04T04:50:38.766810",
     "exception": false,
     "start_time": "2025-06-04T04:50:38.512412",
     "status": "completed"
    },
    "tags": []
   },
   "outputs": [
    {
     "data": {
      "text/html": [
       "<style>#sk-container-id-2 {color: black;background-color: white;}#sk-container-id-2 pre{padding: 0;}#sk-container-id-2 div.sk-toggleable {background-color: white;}#sk-container-id-2 label.sk-toggleable__label {cursor: pointer;display: block;width: 100%;margin-bottom: 0;padding: 0.3em;box-sizing: border-box;text-align: center;}#sk-container-id-2 label.sk-toggleable__label-arrow:before {content: \"▸\";float: left;margin-right: 0.25em;color: #696969;}#sk-container-id-2 label.sk-toggleable__label-arrow:hover:before {color: black;}#sk-container-id-2 div.sk-estimator:hover label.sk-toggleable__label-arrow:before {color: black;}#sk-container-id-2 div.sk-toggleable__content {max-height: 0;max-width: 0;overflow: hidden;text-align: left;background-color: #f0f8ff;}#sk-container-id-2 div.sk-toggleable__content pre {margin: 0.2em;color: black;border-radius: 0.25em;background-color: #f0f8ff;}#sk-container-id-2 input.sk-toggleable__control:checked~div.sk-toggleable__content {max-height: 200px;max-width: 100%;overflow: auto;}#sk-container-id-2 input.sk-toggleable__control:checked~label.sk-toggleable__label-arrow:before {content: \"▾\";}#sk-container-id-2 div.sk-estimator input.sk-toggleable__control:checked~label.sk-toggleable__label {background-color: #d4ebff;}#sk-container-id-2 div.sk-label input.sk-toggleable__control:checked~label.sk-toggleable__label {background-color: #d4ebff;}#sk-container-id-2 input.sk-hidden--visually {border: 0;clip: rect(1px 1px 1px 1px);clip: rect(1px, 1px, 1px, 1px);height: 1px;margin: -1px;overflow: hidden;padding: 0;position: absolute;width: 1px;}#sk-container-id-2 div.sk-estimator {font-family: monospace;background-color: #f0f8ff;border: 1px dotted black;border-radius: 0.25em;box-sizing: border-box;margin-bottom: 0.5em;}#sk-container-id-2 div.sk-estimator:hover {background-color: #d4ebff;}#sk-container-id-2 div.sk-parallel-item::after {content: \"\";width: 100%;border-bottom: 1px solid gray;flex-grow: 1;}#sk-container-id-2 div.sk-label:hover label.sk-toggleable__label {background-color: #d4ebff;}#sk-container-id-2 div.sk-serial::before {content: \"\";position: absolute;border-left: 1px solid gray;box-sizing: border-box;top: 0;bottom: 0;left: 50%;z-index: 0;}#sk-container-id-2 div.sk-serial {display: flex;flex-direction: column;align-items: center;background-color: white;padding-right: 0.2em;padding-left: 0.2em;position: relative;}#sk-container-id-2 div.sk-item {position: relative;z-index: 1;}#sk-container-id-2 div.sk-parallel {display: flex;align-items: stretch;justify-content: center;background-color: white;position: relative;}#sk-container-id-2 div.sk-item::before, #sk-container-id-2 div.sk-parallel-item::before {content: \"\";position: absolute;border-left: 1px solid gray;box-sizing: border-box;top: 0;bottom: 0;left: 50%;z-index: -1;}#sk-container-id-2 div.sk-parallel-item {display: flex;flex-direction: column;z-index: 1;position: relative;background-color: white;}#sk-container-id-2 div.sk-parallel-item:first-child::after {align-self: flex-end;width: 50%;}#sk-container-id-2 div.sk-parallel-item:last-child::after {align-self: flex-start;width: 50%;}#sk-container-id-2 div.sk-parallel-item:only-child::after {width: 0;}#sk-container-id-2 div.sk-dashed-wrapped {border: 1px dashed gray;margin: 0 0.4em 0.5em 0.4em;box-sizing: border-box;padding-bottom: 0.4em;background-color: white;}#sk-container-id-2 div.sk-label label {font-family: monospace;font-weight: bold;display: inline-block;line-height: 1.2em;}#sk-container-id-2 div.sk-label-container {text-align: center;}#sk-container-id-2 div.sk-container {/* jupyter's `normalize.less` sets `[hidden] { display: none; }` but bootstrap.min.css set `[hidden] { display: none !important; }` so we also need the `!important` here to be able to override the default hidden behavior on the sphinx rendered scikit-learn.org. See: https://github.com/scikit-learn/scikit-learn/issues/21755 */display: inline-block !important;position: relative;}#sk-container-id-2 div.sk-text-repr-fallback {display: none;}</style><div id=\"sk-container-id-2\" class=\"sk-top-container\"><div class=\"sk-text-repr-fallback\"><pre>Pipeline(steps=[(&#x27;preprocessor&#x27;,\n",
       "                 ColumnTransformer(remainder=&#x27;passthrough&#x27;,\n",
       "                                   transformers=[(&#x27;cat&#x27;,\n",
       "                                                  OneHotEncoder(handle_unknown=&#x27;ignore&#x27;),\n",
       "                                                  Index([&#x27;HomePlanet&#x27;, &#x27;Destination&#x27;, &#x27;Age_bin&#x27;, &#x27;RoomService_bin&#x27;,\n",
       "       &#x27;FoodCourt_bin&#x27;, &#x27;ShoppingMall_bin&#x27;, &#x27;Spa_bin&#x27;, &#x27;VRDeck_bin&#x27;,\n",
       "       &#x27;Cabin_deck&#x27;, &#x27;Cabin_side&#x27;],\n",
       "      dtype=&#x27;object&#x27;))])),\n",
       "                (&#x27;classifier&#x27;,\n",
       "                 XGBClassifier(base_score=None, boost...\n",
       "                               feature_types=None, gamma=None, grow_policy=None,\n",
       "                               importance_type=None,\n",
       "                               interaction_constraints=None, learning_rate=None,\n",
       "                               max_bin=None, max_cat_threshold=None,\n",
       "                               max_cat_to_onehot=None, max_delta_step=None,\n",
       "                               max_depth=None, max_leaves=None,\n",
       "                               min_child_weight=None, missing=nan,\n",
       "                               monotone_constraints=None, multi_strategy=None,\n",
       "                               n_estimators=None, n_jobs=None,\n",
       "                               num_parallel_tree=None, random_state=42, ...))])</pre><b>In a Jupyter environment, please rerun this cell to show the HTML representation or trust the notebook. <br />On GitHub, the HTML representation is unable to render, please try loading this page with nbviewer.org.</b></div><div class=\"sk-container\" hidden><div class=\"sk-item sk-dashed-wrapped\"><div class=\"sk-label-container\"><div class=\"sk-label sk-toggleable\"><input class=\"sk-toggleable__control sk-hidden--visually\" id=\"sk-estimator-id-8\" type=\"checkbox\" ><label for=\"sk-estimator-id-8\" class=\"sk-toggleable__label sk-toggleable__label-arrow\">Pipeline</label><div class=\"sk-toggleable__content\"><pre>Pipeline(steps=[(&#x27;preprocessor&#x27;,\n",
       "                 ColumnTransformer(remainder=&#x27;passthrough&#x27;,\n",
       "                                   transformers=[(&#x27;cat&#x27;,\n",
       "                                                  OneHotEncoder(handle_unknown=&#x27;ignore&#x27;),\n",
       "                                                  Index([&#x27;HomePlanet&#x27;, &#x27;Destination&#x27;, &#x27;Age_bin&#x27;, &#x27;RoomService_bin&#x27;,\n",
       "       &#x27;FoodCourt_bin&#x27;, &#x27;ShoppingMall_bin&#x27;, &#x27;Spa_bin&#x27;, &#x27;VRDeck_bin&#x27;,\n",
       "       &#x27;Cabin_deck&#x27;, &#x27;Cabin_side&#x27;],\n",
       "      dtype=&#x27;object&#x27;))])),\n",
       "                (&#x27;classifier&#x27;,\n",
       "                 XGBClassifier(base_score=None, boost...\n",
       "                               feature_types=None, gamma=None, grow_policy=None,\n",
       "                               importance_type=None,\n",
       "                               interaction_constraints=None, learning_rate=None,\n",
       "                               max_bin=None, max_cat_threshold=None,\n",
       "                               max_cat_to_onehot=None, max_delta_step=None,\n",
       "                               max_depth=None, max_leaves=None,\n",
       "                               min_child_weight=None, missing=nan,\n",
       "                               monotone_constraints=None, multi_strategy=None,\n",
       "                               n_estimators=None, n_jobs=None,\n",
       "                               num_parallel_tree=None, random_state=42, ...))])</pre></div></div></div><div class=\"sk-serial\"><div class=\"sk-item sk-dashed-wrapped\"><div class=\"sk-label-container\"><div class=\"sk-label sk-toggleable\"><input class=\"sk-toggleable__control sk-hidden--visually\" id=\"sk-estimator-id-9\" type=\"checkbox\" ><label for=\"sk-estimator-id-9\" class=\"sk-toggleable__label sk-toggleable__label-arrow\">preprocessor: ColumnTransformer</label><div class=\"sk-toggleable__content\"><pre>ColumnTransformer(remainder=&#x27;passthrough&#x27;,\n",
       "                  transformers=[(&#x27;cat&#x27;, OneHotEncoder(handle_unknown=&#x27;ignore&#x27;),\n",
       "                                 Index([&#x27;HomePlanet&#x27;, &#x27;Destination&#x27;, &#x27;Age_bin&#x27;, &#x27;RoomService_bin&#x27;,\n",
       "       &#x27;FoodCourt_bin&#x27;, &#x27;ShoppingMall_bin&#x27;, &#x27;Spa_bin&#x27;, &#x27;VRDeck_bin&#x27;,\n",
       "       &#x27;Cabin_deck&#x27;, &#x27;Cabin_side&#x27;],\n",
       "      dtype=&#x27;object&#x27;))])</pre></div></div></div><div class=\"sk-parallel\"><div class=\"sk-parallel-item\"><div class=\"sk-item\"><div class=\"sk-label-container\"><div class=\"sk-label sk-toggleable\"><input class=\"sk-toggleable__control sk-hidden--visually\" id=\"sk-estimator-id-10\" type=\"checkbox\" ><label for=\"sk-estimator-id-10\" class=\"sk-toggleable__label sk-toggleable__label-arrow\">cat</label><div class=\"sk-toggleable__content\"><pre>Index([&#x27;HomePlanet&#x27;, &#x27;Destination&#x27;, &#x27;Age_bin&#x27;, &#x27;RoomService_bin&#x27;,\n",
       "       &#x27;FoodCourt_bin&#x27;, &#x27;ShoppingMall_bin&#x27;, &#x27;Spa_bin&#x27;, &#x27;VRDeck_bin&#x27;,\n",
       "       &#x27;Cabin_deck&#x27;, &#x27;Cabin_side&#x27;],\n",
       "      dtype=&#x27;object&#x27;)</pre></div></div></div><div class=\"sk-serial\"><div class=\"sk-item\"><div class=\"sk-estimator sk-toggleable\"><input class=\"sk-toggleable__control sk-hidden--visually\" id=\"sk-estimator-id-11\" type=\"checkbox\" ><label for=\"sk-estimator-id-11\" class=\"sk-toggleable__label sk-toggleable__label-arrow\">OneHotEncoder</label><div class=\"sk-toggleable__content\"><pre>OneHotEncoder(handle_unknown=&#x27;ignore&#x27;)</pre></div></div></div></div></div></div><div class=\"sk-parallel-item\"><div class=\"sk-item\"><div class=\"sk-label-container\"><div class=\"sk-label sk-toggleable\"><input class=\"sk-toggleable__control sk-hidden--visually\" id=\"sk-estimator-id-12\" type=\"checkbox\" ><label for=\"sk-estimator-id-12\" class=\"sk-toggleable__label sk-toggleable__label-arrow\">remainder</label><div class=\"sk-toggleable__content\"><pre>[&#x27;CryoSleep&#x27;, &#x27;VIP&#x27;]</pre></div></div></div><div class=\"sk-serial\"><div class=\"sk-item\"><div class=\"sk-estimator sk-toggleable\"><input class=\"sk-toggleable__control sk-hidden--visually\" id=\"sk-estimator-id-13\" type=\"checkbox\" ><label for=\"sk-estimator-id-13\" class=\"sk-toggleable__label sk-toggleable__label-arrow\">passthrough</label><div class=\"sk-toggleable__content\"><pre>passthrough</pre></div></div></div></div></div></div></div></div><div class=\"sk-item\"><div class=\"sk-estimator sk-toggleable\"><input class=\"sk-toggleable__control sk-hidden--visually\" id=\"sk-estimator-id-14\" type=\"checkbox\" ><label for=\"sk-estimator-id-14\" class=\"sk-toggleable__label sk-toggleable__label-arrow\">XGBClassifier</label><div class=\"sk-toggleable__content\"><pre>XGBClassifier(base_score=None, booster=None, callbacks=None,\n",
       "              colsample_bylevel=None, colsample_bynode=None,\n",
       "              colsample_bytree=None, device=None, early_stopping_rounds=None,\n",
       "              enable_categorical=False, eval_metric=&#x27;logloss&#x27;,\n",
       "              feature_types=None, gamma=None, grow_policy=None,\n",
       "              importance_type=None, interaction_constraints=None,\n",
       "              learning_rate=None, max_bin=None, max_cat_threshold=None,\n",
       "              max_cat_to_onehot=None, max_delta_step=None, max_depth=None,\n",
       "              max_leaves=None, min_child_weight=None, missing=nan,\n",
       "              monotone_constraints=None, multi_strategy=None, n_estimators=None,\n",
       "              n_jobs=None, num_parallel_tree=None, random_state=42, ...)</pre></div></div></div></div></div></div></div>"
      ],
      "text/plain": [
       "Pipeline(steps=[('preprocessor',\n",
       "                 ColumnTransformer(remainder='passthrough',\n",
       "                                   transformers=[('cat',\n",
       "                                                  OneHotEncoder(handle_unknown='ignore'),\n",
       "                                                  Index(['HomePlanet', 'Destination', 'Age_bin', 'RoomService_bin',\n",
       "       'FoodCourt_bin', 'ShoppingMall_bin', 'Spa_bin', 'VRDeck_bin',\n",
       "       'Cabin_deck', 'Cabin_side'],\n",
       "      dtype='object'))])),\n",
       "                ('classifier',\n",
       "                 XGBClassifier(base_score=None, boost...\n",
       "                               feature_types=None, gamma=None, grow_policy=None,\n",
       "                               importance_type=None,\n",
       "                               interaction_constraints=None, learning_rate=None,\n",
       "                               max_bin=None, max_cat_threshold=None,\n",
       "                               max_cat_to_onehot=None, max_delta_step=None,\n",
       "                               max_depth=None, max_leaves=None,\n",
       "                               min_child_weight=None, missing=nan,\n",
       "                               monotone_constraints=None, multi_strategy=None,\n",
       "                               n_estimators=None, n_jobs=None,\n",
       "                               num_parallel_tree=None, random_state=42, ...))])"
      ]
     },
     "execution_count": 29,
     "metadata": {},
     "output_type": "execute_result"
    }
   ],
   "source": [
    "# create pipeline\n",
    "XG_pipeline = Pipeline([\n",
    "    ('preprocessor', preprocessor),\n",
    "    ('classifier', XGBClassifier(use_label_encoder=False, eval_metric='logloss', random_state=42))\n",
    "])\n",
    "\n",
    "XG_pipeline.fit(X_train, y_train)"
   ]
  },
  {
   "cell_type": "code",
   "execution_count": 30,
   "id": "f4c887e7",
   "metadata": {
    "execution": {
     "iopub.execute_input": "2025-06-04T04:50:38.789979Z",
     "iopub.status.busy": "2025-06-04T04:50:38.789307Z",
     "iopub.status.idle": "2025-06-04T04:50:38.841034Z",
     "shell.execute_reply": "2025-06-04T04:50:38.840266Z"
    },
    "papermill": {
     "duration": 0.064798,
     "end_time": "2025-06-04T04:50:38.842691",
     "exception": false,
     "start_time": "2025-06-04T04:50:38.777893",
     "status": "completed"
    },
    "tags": []
   },
   "outputs": [],
   "source": [
    "XG_submission_preds = XG_pipeline.predict(test_df)\n",
    "\n",
    "submission = pd.DataFrame({\n",
    "    'PassengerId': test_df['PassengerId'],\n",
    "    'Transported': XG_submission_preds.astype(bool)\n",
    "})\n",
    "\n",
    "submission.to_csv('submission.csv', index=False)"
   ]
  }
 ],
 "metadata": {
  "kaggle": {
   "accelerator": "none",
   "dataSources": [
    {
     "databundleVersionId": 3220602,
     "sourceId": 34377,
     "sourceType": "competition"
    }
   ],
   "dockerImageVersionId": 31040,
   "isGpuEnabled": false,
   "isInternetEnabled": true,
   "language": "python",
   "sourceType": "notebook"
  },
  "kernelspec": {
   "display_name": "Python 3",
   "language": "python",
   "name": "python3"
  },
  "language_info": {
   "codemirror_mode": {
    "name": "ipython",
    "version": 3
   },
   "file_extension": ".py",
   "mimetype": "text/x-python",
   "name": "python",
   "nbconvert_exporter": "python",
   "pygments_lexer": "ipython3",
   "version": "3.11.11"
  },
  "papermill": {
   "default_parameters": {},
   "duration": 19.183939,
   "end_time": "2025-06-04T04:50:39.676858",
   "environment_variables": {},
   "exception": null,
   "input_path": "__notebook__.ipynb",
   "output_path": "__notebook__.ipynb",
   "parameters": {},
   "start_time": "2025-06-04T04:50:20.492919",
   "version": "2.6.0"
  }
 },
 "nbformat": 4,
 "nbformat_minor": 5
}
